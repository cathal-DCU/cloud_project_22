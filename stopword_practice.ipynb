{
 "cells": [
  {
   "cell_type": "code",
   "execution_count": 5,
   "id": "a48c2492",
   "metadata": {},
   "outputs": [],
   "source": [
    "#!pip install -U nltk\n",
    "# mkdir -p 'gs://cloud-project-bucket-1981/stopwords'\n",
    "#!python -m nltk.downloader popular -d 'gs://cloud-project-bucket-1981/stopwords'"
   ]
  },
  {
   "cell_type": "code",
   "execution_count": 6,
   "id": "ef82f48c",
   "metadata": {},
   "outputs": [
    {
     "name": "stderr",
     "output_type": "stream",
     "text": [
      "[nltk_data] Downloading package stopwords to gs://cloud-project-\n",
      "[nltk_data]     bucket-1981/stopwords...\n",
      "[nltk_data]   Package stopwords is already up-to-date!\n"
     ]
    },
    {
     "data": {
      "text/plain": [
       "True"
      ]
     },
     "execution_count": 6,
     "metadata": {},
     "output_type": "execute_result"
    }
   ],
   "source": [
    "from nltk.corpus import stopwords\n",
    "import nltk\n",
    "nltk.data.path.append('gs://cloud-project-bucket-1981/stopwords')\n",
    "nltk.download('stopwords',download_dir='gs://cloud-project-bucket-1981/stopwords')"
   ]
  },
  {
   "cell_type": "code",
   "execution_count": 7,
   "id": "08e72e56",
   "metadata": {},
   "outputs": [],
   "source": [
    "def remove_stopwords(x):    \n",
    "    nltk.data.path.append('gs://cloud-project-bucket-1981/stopwords')\n",
    "    sw = stopwords.words(\"english\")\n",
    "    # print(sw[:7])\n",
    "    string = ''\n",
    "    for x in x.split(' '):\n",
    "        if x.lower() not in sw:\n",
    "            string += x + ' '\n",
    "        else:\n",
    "            pass\n",
    "    return string"
   ]
  },
  {
   "cell_type": "code",
   "execution_count": 8,
   "id": "725fb47b",
   "metadata": {},
   "outputs": [
    {
     "name": "stdout",
     "output_type": "stream",
     "text": [
      "sentence needs words removed \n"
     ]
    }
   ],
   "source": [
    "x=\"I am a sentence that needs words removed\"\n",
    "print(remove_stopwords(x))"
   ]
  },
  {
   "cell_type": "code",
   "execution_count": null,
   "id": "36c4f18d",
   "metadata": {},
   "outputs": [],
   "source": []
  }
 ],
 "metadata": {
  "kernelspec": {
   "display_name": "Python 3",
   "language": "python",
   "name": "python3"
  },
  "language_info": {
   "codemirror_mode": {
    "name": "ipython",
    "version": 3
   },
   "file_extension": ".py",
   "mimetype": "text/x-python",
   "name": "python",
   "nbconvert_exporter": "python",
   "pygments_lexer": "ipython3",
   "version": "3.8.12"
  }
 },
 "nbformat": 4,
 "nbformat_minor": 5
}