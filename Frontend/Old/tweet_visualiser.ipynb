{
 "cells": [
  {
   "cell_type": "code",
   "execution_count": 504,
   "id": "38c49f78",
   "metadata": {},
   "outputs": [],
   "source": [
    "# %%capture\n",
    "# https://github.com/noahberhe/Lobbyists4America/blob/master/Lobbyists4America.ipynb\n",
    "#!pip install textblob\n",
    "#!pip install findspark\n",
    "#!pip install nltk\n",
    "#!pip install wordcloud\n",
    "#!pip install geopy\n",
    "#!pip install folium\n",
    "#!pip install plotly\n",
    "#!pip install chart_studio\n",
    "#!pip install jupyterlab_dash\n",
    "#!pip install \"plotly>=5\" \"ipywidgets>=7.6\"\n",
    "#!pip install chart_studio\n",
    "# !pip install plotly jupyterlab\n",
    "#!jupyter labextension install @jupyterlab/plotly-extension\n",
    "#!pip install -U nltk\n",
    "#!python -m nltk.downloader popular -d 'gs://cloud-project-bucket-1981/stopwords'\n"
   ]
  },
  {
   "cell_type": "code",
   "execution_count": 505,
   "id": "ca749304-ea4e-43f2-94fd-8f796665d232",
   "metadata": {},
   "outputs": [],
   "source": [
    "%%capture\n",
    "!jupyter labextension install plotlywidget\n",
    "!pip install plotly jupyterlab\n",
    "!jupyter serverextension install jupyter_server_proxy\n",
    "!jupyter serverextension enable jupyter_server_proxy"
   ]
  },
  {
   "cell_type": "code",
   "execution_count": 506,
   "id": "b9d585f6",
   "metadata": {},
   "outputs": [
    {
     "name": "stdout",
     "output_type": "stream",
     "text": [
      "JupyterLab v3.0.18\n",
      "/opt/conda/miniconda3/share/jupyter/labextensions\n",
      "        nbdime-jupyterlab v2.1.0 \u001b[32menabled\u001b[0m \u001b[32mOK\u001b[0m\n",
      "        jupyterlab-plotly v5.6.0 \u001b[32menabled\u001b[0m \u001b[32mOK\u001b[0m\n",
      "        @jupyter-widgets/jupyterlab-manager v3.0.1 \u001b[32menabled\u001b[0m \u001b[32mOK\u001b[0m (python, jupyterlab_widgets)\n",
      "        @jupyterlab/server-proxy v3.2.1 \u001b[32menabled\u001b[0m \u001b[32mOK\u001b[0m\n",
      "        @jupyterlab/git v0.30.1 \u001b[32menabled\u001b[0m \u001b[32mOK\u001b[0m (python, jupyterlab-git)\n",
      "\n",
      "Other labextensions (built into JupyterLab)\n",
      "   app dir: /opt/conda/miniconda3/share/jupyter/lab\n",
      "        plotlywidget v4.14.3 \u001b[32menabled\u001b[0m \u001b[32mOK\u001b[0m\n",
      "\n",
      "\n",
      "The following source extensions are overshadowed by older prebuilt extensions:\n",
      "    nbdime-jupyterlab\n"
     ]
    }
   ],
   "source": [
    "# %%capture\n",
    "!jupyter labextension list"
   ]
  },
  {
   "cell_type": "code",
   "execution_count": 507,
   "id": "95cbf4e5",
   "metadata": {},
   "outputs": [],
   "source": [
    "%%capture\n",
    "# import necessary packages\n",
    "import os\n",
    "import json\n",
    "import time\n",
    "import subprocess\n",
    "import pyspark\n",
    "import findspark\n",
    "from pyspark.sql import SparkSession\n",
    "from pyspark.sql.functions import *\n",
    "from pyspark.sql.types import *\n",
    "from pyspark.sql import functions as F\n",
    "from textblob import TextBlob\n",
    "# import webbrowser\n",
    "import io\n",
    "from google.cloud import storage\n",
    "\n",
    "import re\n",
    "import nltk\n",
    "from nltk.corpus import stopwords\n",
    "nltk.download('stopwords')\n",
    "import string\n",
    "\n",
    "#import libraries to visualize the results from stream\n",
    "import time\n",
    "from IPython import display\n",
    "from IPython.display import IFrame\n",
    "from IPython.display import clear_output\n",
    "import plotly\n",
    "# import plotly.plotly as py\n",
    "import chart_studio.plotly as py\n",
    "import plotly.graph_objs as go \n",
    "from plotly.offline import download_plotlyjs, init_notebook_mode, plot, iplot, plot_mpl\n",
    "import plotly.io as pio\n",
    "init_notebook_mode()\n",
    "import matplotlib.pyplot as plt\n",
    "import seaborn as sns\n",
    "import pandas as pd\n",
    "from PIL import Image\n",
    "from wordcloud import WordCloud, STOPWORDS, ImageColorGenerator\n",
    "from collections import Counter\n",
    "from google.cloud import storage\n",
    "import ast\n",
    "import numpy as np\n",
    "from geopy.geocoders import Nominatim\n",
    "from geopy.extra.rate_limiter import RateLimiter\n",
    "from geopy.exc import GeocoderTimedOut\n",
    "# https://stackoverflow.com/questions/36969991/folium-map-not-displaying\n",
    "# import folium\n",
    "# from folium import plugins\n",
    "# from folium.plugins import MarkerCluster, FastMarkerCluster, HeatMapWithTime\n",
    "%matplotlib inline\n",
    "\n"
   ]
  },
  {
   "cell_type": "code",
   "execution_count": 508,
   "id": "215cc264",
   "metadata": {},
   "outputs": [],
   "source": [
    "# from IPython.core.display import HTML\n",
    "from IPython.display import display, HTML"
   ]
  },
  {
   "cell_type": "code",
   "execution_count": 509,
   "id": "2ea27cc0",
   "metadata": {},
   "outputs": [],
   "source": [
    "findspark.init()"
   ]
  },
  {
   "cell_type": "code",
   "execution_count": 510,
   "id": "0da2fdcf",
   "metadata": {},
   "outputs": [],
   "source": [
    "def json_load(text):\n",
    "    return json.loads(text)"
   ]
  },
  {
   "cell_type": "code",
   "execution_count": 511,
   "id": "dea3e01e",
   "metadata": {},
   "outputs": [],
   "source": [
    "def get_message(text):\n",
    "    msg = json.loads(text)\n",
    "    # if tweet is longer than 140 characters\n",
    "    if \"extended_tweet\" in msg:\n",
    "        return str(msg['extended_tweet']['full_text'])\n",
    "    else:\n",
    "        return str(msg['text'])"
   ]
  },
  {
   "cell_type": "code",
   "execution_count": 512,
   "id": "6c899d52",
   "metadata": {},
   "outputs": [],
   "source": [
    "def get_tweet_field(text, field):\n",
    "    msg = json.loads(text)\n",
    "    if '/' in field:\n",
    "        fields = field.split('/')\n",
    "        fieldDepth = len(fields)\n",
    "        f = msg\n",
    "        for i in range(fieldDepth):\n",
    "            if(f is None):\n",
    "                return None\n",
    "            if i == fieldDepth - 1:\n",
    "                return str(f[fields[i]]) \n",
    "            else:\n",
    "                f = f[fields[i]]\n",
    "    else:\n",
    "        return str(msg[field])"
   ]
  },
  {
   "cell_type": "code",
   "execution_count": 513,
   "id": "f6e26d66",
   "metadata": {},
   "outputs": [],
   "source": [
    "def get_analysis(score):\n",
    "\n",
    "    if score < 0:\n",
    "        return 'Negative'\n",
    "    elif score == 0:\n",
    "        return 'Neutral'\n",
    "    else:\n",
    "        return 'Positive'"
   ]
  },
  {
   "cell_type": "code",
   "execution_count": 514,
   "id": "e74a19f0",
   "metadata": {},
   "outputs": [],
   "source": [
    "def remove_stopwords(x):    \n",
    "    # import nltk\n",
    "    # nltk.download('stopwords')\n",
    "    # data = nltk.corpus.comtrans.aligned_sents('alignment-en-fr.txt')\n",
    "    # nltk.data.path.append('gs://cloud-project-bucket-1981/stopwords')\n",
    "    sw = nltk.corpus.stopwords.words(\"english\")\n",
    "    string = ''\n",
    "    for x in x.split(' '):\n",
    "        if x.lower() not in sw:\n",
    "            string += x + ' '\n",
    "        else:\n",
    "            pass\n",
    "    return string\n"
   ]
  },
  {
   "cell_type": "code",
   "execution_count": 515,
   "id": "cdd43029-f1aa-4a18-94a8-230f2db30eb7",
   "metadata": {},
   "outputs": [],
   "source": [
    "# tokenize helper function\n",
    "def text_process(raw_text):\n",
    "    \"\"\"\n",
    "    Takes in a string of text, then performs the following:\n",
    "    1. Remove all punctuation\n",
    "    2. Remove all stopwords\n",
    "    3. Returns a list of the cleaned text\n",
    "    \"\"\"\n",
    "    # Check characters to see if they are in punctuation\n",
    "    nopunc = [char for char in list(raw_text) if char not in string.punctuation]\n",
    "\n",
    "    # Join the characters again to form the string.\n",
    "    nopunc = ''.join(nopunc)\n",
    "    \n",
    "    # Now just remove any stopwords\n",
    "    return ' '.join([word for word in nopunc.lower().split() if word.lower() not in stopwords.words('english')])"
   ]
  },
  {
   "cell_type": "code",
   "execution_count": 516,
   "id": "7f881694",
   "metadata": {},
   "outputs": [],
   "source": [
    "def remove_non_words(tweet):    \n",
    "    # import nltk\n",
    "    # nltk.download('stopwords')\n",
    "    # data = nltk.corpus.comtrans.aligned_sents('alignment-en-fr.txt')\n",
    "    # nltk.data.path.append('gs://cloud-project-bucket-1981/stopwords')\n",
    "    sw = nltk.corpus.stopwords.words(\"english\")\n",
    "    output_string = ''\n",
    "    \n",
    "    # Remove Punctuation and split 's, 't, 've with a space for filter\n",
    "    tweet = re.sub(r'[' + string.punctuation.replace('@', '') + ']+', ' ', tweet)\n",
    "    # Remove single space remaining at the front of the tweet.\n",
    "    tweet = tweet.lstrip(' ') \n",
    "    # Remove characters beyond Basic Multilingual Plane (BMP) of Unicode:\n",
    "    tweet = ''.join(c for c in tweet if c <= '\\uFFFF')\n",
    "    \n",
    "    for word in tweet.split(' '):\n",
    "        if word[:1].isalpha():\n",
    "            output_string += word + ' '\n",
    "        else:\n",
    "            # non_words.append(word)\n",
    "            pass\n",
    "    \n",
    "    return output_string"
   ]
  },
  {
   "cell_type": "code",
   "execution_count": 517,
   "id": "1a233bd9",
   "metadata": {},
   "outputs": [],
   "source": [
    "def process_streams(tweets):\n",
    "    # import nltk\n",
    "    # nltk.download('stopwords')\n",
    "    # Convert to json\n",
    "    json_load_udf = udf(json_load, StringType())\n",
    "    tweets = tweets.withColumn(\"json\", json_load_udf(\"value\"))\n",
    "\n",
    "    # Get id\n",
    "    get_tweet_field_udf = udf(get_tweet_field, StringType())\n",
    "    tweets = tweets.withColumn(\"id\", get_tweet_field_udf(\"value\", lit('id')))\n",
    "\n",
    "    # Get created_at\n",
    "    get_tweet_field_udf = udf(get_tweet_field, StringType())\n",
    "    tweets = tweets.withColumn(\"created_at\", get_tweet_field_udf(\"value\", lit('created_at')))\n",
    "\n",
    "    # Get place full name\n",
    "    get_tweet_field_udf = udf(get_tweet_field, StringType())\n",
    "    tweets = tweets.withColumn(\"place_full_name\", get_tweet_field_udf(\"value\", lit('place/full_name')))\n",
    "\n",
    "    # Get place country\n",
    "    get_tweet_field_udf = udf(get_tweet_field, StringType())\n",
    "    tweets = tweets.withColumn(\"place_country\", get_tweet_field_udf(\"value\", lit('place/country')))\n",
    "\n",
    "    # Get place country code\n",
    "    get_tweet_field_udf = udf(get_tweet_field, StringType())\n",
    "    tweets = tweets.withColumn(\"place_country_code\", get_tweet_field_udf(\"value\", lit('place/country_code')))\n",
    "\n",
    "    # Get place co-ordinates\n",
    "    get_tweet_field_udf = udf(get_tweet_field, StringType())\n",
    "    tweets = tweets.withColumn(\"place_coordinates\", get_tweet_field_udf(\"value\", lit('coordinates')))\n",
    "\n",
    "    # Get place bounding_box co-ordinates\n",
    "    get_tweet_field_udf = udf(get_tweet_field, StringType())\n",
    "    tweets = tweets.withColumn(\"bounding_box_coordinates\",\n",
    "                               get_tweet_field_udf(\"value\", lit('place/bounding_box/coordinates')))\n",
    "\n",
    "    # Get place type\n",
    "    get_tweet_field_udf = udf(get_tweet_field, StringType())\n",
    "    tweets = tweets.withColumn(\"place_type\", get_tweet_field_udf(\"value\", lit('place/place_type')))\n",
    "\n",
    "    # Get message\n",
    "    get_message_udf = udf(get_message, StringType())\n",
    "    tweets = tweets.withColumn(\"message\", get_message_udf(\"value\"))\n",
    "\n",
    "    # Get cleaned words from message for analysis\n",
    "    tweets = tweets.withColumn('words', tweets.message)\n",
    "    # Remove HTML special entities (e.g. &amp;)\n",
    "    tweets = tweets.withColumn('words', F.regexp_replace('words', r'\\&\\w*;', ''))\n",
    "    # Convert @username to AT_USER\n",
    "    tweets = tweets.withColumn('words', F.regexp_replace('words', '@[^\\s]+', ''))\n",
    "    # Remove tickers\n",
    "    tweets = tweets.withColumn('words', F.regexp_replace('words', r'\\$\\w*', ' '))\n",
    "    # Remove hyperlinks\n",
    "    tweets = tweets.withColumn('words', F.regexp_replace('words', r'https?:\\/\\/.*\\/\\w*', ''))\n",
    "    # Remove hashtags\n",
    "    tweets = tweets.withColumn('words', F.regexp_replace('words', r'#\\w*', ''))\n",
    "    # Remove words with 2 or fewer letters\n",
    "    # tweets = tweets.withColumn('words', F.regexp_replace('words', r'\\b\\w{1,2}\\b', ''))\n",
    "    # Remove whitespace (including new line characters)\n",
    "    tweets = tweets.withColumn('words', F.regexp_replace('words', r'\\s\\s+', ' '))\n",
    "    # tweets = tweets.withColumn('words', F.regexp_replace('words', r'http\\S+', ' '))\n",
    "    # tweets = tweets.withColumn('words', F.regexp_replace('words', '@\\w+', ' '))\n",
    "    # tweets = tweets.withColumn('words', F.regexp_replace('words', '#', ' '))\n",
    "    tweets = tweets.withColumn('words', F.regexp_replace('words', 'RT', ''))\n",
    "    # tweets = tweets.withColumn('words', F.regexp_replace('words', ':', ' '))\n",
    "\n",
    "    # my_udf = udf(lambda x: remove_stopwords(x), StringType())\n",
    "    # tweets = tweets.withColumn('words',my_udf(tweets.words))\n",
    "\n",
    "    # Drop unnesscessary data\n",
    "    tweets = tweets.drop(\"value\")\n",
    "    tweets = tweets.drop(\"json\")\n",
    "\n",
    "    return tweets"
   ]
  },
  {
   "cell_type": "code",
   "execution_count": 518,
   "id": "1c62acce",
   "metadata": {},
   "outputs": [],
   "source": [
    "# Text classification using TextBlob\n",
    "def polarity_detection(text):\n",
    "    return TextBlob(text).sentiment.polarity\n",
    "def subjectivity_detection(text):\n",
    "    return TextBlob(text).sentiment.subjectivity\n",
    "\n",
    "def text_classification(tweets):\n",
    "    \n",
    "    # polarity detection\n",
    "    polarity_detection_udf = udf(polarity_detection, StringType())\n",
    "    tweets = tweets.withColumn(\"polarity\", polarity_detection_udf(\"words\"))\n",
    "    \n",
    "    # subjectivity detection\n",
    "    subjectivity_detection_udf = udf(subjectivity_detection, StringType())\n",
    "    tweets = tweets.withColumn(\"subjectivity\", subjectivity_detection_udf(\"words\"))\n",
    "    \n",
    "    # analysis\n",
    "    get_analysis_udf = udf(get_analysis, StringType())\n",
    "    tweets = tweets.withColumn('analysis', get_analysis_udf('polarity'))\n",
    "    \n",
    "    return tweets"
   ]
  },
  {
   "cell_type": "code",
   "execution_count": 519,
   "id": "5d1dd4bf",
   "metadata": {},
   "outputs": [],
   "source": [
    "def df_text_classification(df):\n",
    "\n",
    "    df[\"polarity\"] = df[\"words\"].apply(lambda x: polarity_detection(x))\n",
    "    df[\"subjectivity\"] = df[\"words\"].apply(lambda x: subjectivity_detection(x))\n",
    "    df['analysis'] = df['polarity'].apply(lambda x: get_analysis(x))\n",
    "    \n",
    "    return df"
   ]
  },
  {
   "cell_type": "code",
   "execution_count": 520,
   "id": "9dde2a5a",
   "metadata": {},
   "outputs": [],
   "source": [
    "def text_cleaning(df):\n",
    "    \n",
    "    df[\"words\"] = df[\"words\"].apply(lambda x: remove_non_words(x))\n",
    "    df[\"words\"] = df[\"words\"].apply(lambda x: text_process(x))\n",
    "    \n",
    "    return df"
   ]
  },
  {
   "cell_type": "code",
   "execution_count": 521,
   "id": "eb79a406",
   "metadata": {},
   "outputs": [],
   "source": [
    "%%capture\n",
    "\"\"\"\n",
    "def flat_list(column):\n",
    "    corpus = []\n",
    "    for row in column:\n",
    "        for w in row.split(' '):\n",
    "            corpus.append(w)\n",
    "    return corpus\n",
    "\n",
    "def corpus_creator(text_col):\n",
    "    corpus = text_col.rdd \\\n",
    "                    .flatMap(flat_list) \\\n",
    "                    .map(lambda x: (x, 1)) \\\n",
    "                    .reduceByKey(lambda x, y: x+y ) \\\n",
    "                    .sortBy(lambda x: x[1], ascending=False) \\\n",
    "                    .toDF() \\\n",
    "                    .withColumnRenamed('_1','text') \\\n",
    "                    .withColumnRenamed('_2','count')\n",
    "    return corpus\n",
    "\n",
    "def annual_tweets(year, tweets):\n",
    "    annual_tweets = tweets.select('words') \\\n",
    "                        .filter('YEAR(FROM_UNIXTIME(created_at))=={}'.format(year)) \\\n",
    "                        .withColumnRenamed('words','text')\n",
    "    # print(annual_tweets.head(3))\n",
    "    return annual_tweets\n",
    "\n",
    "def wordcloud(corpus_sdf):\n",
    "    corpus_pdf = corpus_sdf.limit(500).toPandas()\n",
    "\n",
    "    corpus_dict = {}\n",
    "    for index, row in corpus_pdf.iterrows():\n",
    "        corpus_dict[row['text']] = row['count']\n",
    "        \n",
    "    wordcloud = WordCloud().generate_from_frequencies(corpus_dict)\n",
    "    plt.imshow(wordcloud);\n",
    "\n",
    "def annualcorpora(tweets):\n",
    "    years_list = [2022]\n",
    "    print(tweets[\"id\"].head(3))\n",
    "    annual_corpora = {}\n",
    "    for year in years_list:\n",
    "        annual_corpora[str(year)] = corpus_creator(annual_tweets(year, tweets))\n",
    "\n",
    "    for key,value in annual_corpora.items():\n",
    "        fig, ax = plt.subplots()\n",
    "        ax = wordcloud(value)\n",
    "        fig.suptitle('{} wordcloud'.format(key))\n",
    "\"\"\""
   ]
  },
  {
   "cell_type": "code",
   "execution_count": null,
   "id": "95b626f7",
   "metadata": {},
   "outputs": [],
   "source": []
  },
  {
   "cell_type": "code",
   "execution_count": 522,
   "id": "b2ff812e",
   "metadata": {},
   "outputs": [],
   "source": [
    "# https://github.com/RonKG/Machine-Learning-Projects-2/blob/master/3.%20NLP_twitter_sentiment_analysis/FINAL____twitter_sentiment_twitter.ipynb\n",
    "# get a word count per sentence column\n",
    "def word_count(sentence):\n",
    "    return len(sentence.split())\n",
    "\n",
    "\n",
    "def data_details(data):\n",
    "    # print(data.head(2))\n",
    "    # check the number of positive vs. negative tagged sentences\n",
    "    positives = data['analysis'][data.analysis == \"Positive\"]\n",
    "    negatives = data['analysis'][data.analysis == \"Negative\"]\n",
    "\n",
    "    print('number of positve tagged sentences is:  {}'.format(len(positives)))\n",
    "    print('number of negative tagged sentences is: {}'.format(len(negatives)))\n",
    "    print('total length of the data is:            {}'.format(data.shape[0]))\n",
    "    data['word count'] = data['words'].apply(word_count)\n",
    "    # plot word count distribution for both positive and negative sentiments\n",
    "    x = data['word count'][data.analysis == \"Positive\"]\n",
    "    y = data['word count'][data.analysis == \"Negative\"]\n",
    "    plt.figure(figsize=(12,6))\n",
    "    plt.xlim(0,45)\n",
    "    plt.xlabel('word count')\n",
    "    plt.ylabel('frequency')\n",
    "    g = plt.hist([x, y], color=['r','b'], alpha=0.5, label=['positive','negative'])\n",
    "    plt.legend(loc='upper right')\n",
    "    plt.clf()\n",
    "    "
   ]
  },
  {
   "cell_type": "code",
   "execution_count": 523,
   "id": "702b9d5d",
   "metadata": {},
   "outputs": [],
   "source": [
    "def common_words(data):\n",
    "    # get most common words in training dataset\n",
    "    all_words = []\n",
    "    for line in list(data['words']):\n",
    "        words = line.split()\n",
    "        for word in words:\n",
    "            all_words.append(word.lower())\n",
    "    return all_words"
   ]
  },
  {
   "cell_type": "code",
   "execution_count": null,
   "id": "c51e3058",
   "metadata": {},
   "outputs": [],
   "source": []
  },
  {
   "cell_type": "code",
   "execution_count": 524,
   "id": "c79bc147",
   "metadata": {},
   "outputs": [],
   "source": [
    "def sent_number (row):\n",
    "    if row['analysis'] == \"Positive\" :\n",
    "        #print (\"Positive\")\n",
    "        return 1\n",
    "    if row['analysis'] == \"Negative\" :\n",
    "        #print (\"Negative\")\n",
    "        return -1\n",
    "    if row['analysis'] == \"Neutral\" :\n",
    "        #print (\"Neutral\")\n",
    "        return 0\n",
    "   "
   ]
  },
  {
   "cell_type": "code",
   "execution_count": 525,
   "id": "3e852abb",
   "metadata": {},
   "outputs": [
    {
     "data": {
      "text/plain": [
       "'\\n# get central geo location from the bounding box for later mapping\\n\\n# helper function to get mean of lats and longs\\ndef geo_mean(x):\\n    y = json.loads(x)\\n    y = np.asarray(y)\\n    mean_geoloc = np.add(np.add((y[:][0][0]),(y[:][0][1]))/2,                         (np.add((y[:][0][2]),(y[:][0][3]))/2))/2    \\n    return np.around(mean_geoloc,decimals=6)\\n'"
      ]
     },
     "execution_count": 525,
     "metadata": {},
     "output_type": "execute_result"
    }
   ],
   "source": [
    "\"\"\"\n",
    "# get central geo location from the bounding box for later mapping\n",
    "\n",
    "# helper function to get mean of lats and longs\n",
    "def geo_mean(x):\n",
    "    y = json.loads(x)\n",
    "    y = np.asarray(y)\n",
    "    mean_geoloc = np.add(np.add((y[:][0][0]),(y[:][0][1]))/2,\\\n",
    "                         (np.add((y[:][0][2]),(y[:][0][3]))/2))/2    \n",
    "    return np.around(mean_geoloc,decimals=6)\n",
    "\"\"\""
   ]
  },
  {
   "cell_type": "code",
   "execution_count": 526,
   "id": "545a9754",
   "metadata": {},
   "outputs": [],
   "source": [
    "def do_geocode(address, attempt=1, max_attempts=10):\n",
    "    try:\n",
    "        return geopy.geocode(address)\n",
    "    except GeocoderTimedOut:\n",
    "        if attempt <= max_attempts:\n",
    "            return do_geocode(address, attempt=attempt+1)\n",
    "        raise"
   ]
  },
  {
   "cell_type": "code",
   "execution_count": 527,
   "id": "fba1fcb4",
   "metadata": {},
   "outputs": [],
   "source": [
    "\n",
    "# https://www.geeksforgeeks.org/how-to-get-geolocation-in-python/\n",
    "# importing geopy library\n",
    "# \n",
    "def get_place_coords(place):\n",
    "    # calling the Nominatim tool\n",
    "    loc = Nominatim(user_agent=\"GetLoc\")\n",
    "    \n",
    "    # adding a delay to avoid a Too Many Requests error\n",
    "    # https://geopy.readthedocs.io/en/stable/#usage-with-pandas\n",
    "    geocode = RateLimiter(loc.geocode, min_delay_seconds=1)\n",
    "    \n",
    "    # entering the location name\n",
    "    # getLoc = place.apply(geocode)\n",
    "    if geocode(place):\n",
    "        getLoc = geocode(place)\n",
    "        # print(getLoc)\n",
    "        # Latitude & Longitude input\n",
    "        try:\n",
    "            Latitude = str(getLoc.latitude)\n",
    "            Longitude = str(getLoc.longitude)\n",
    "            location = loc.reverse(Latitude+\",\"+Longitude, language='en')\n",
    "            address = location.raw['address']\n",
    "            # traverse the data\n",
    "            city = address.get('city', '')\n",
    "            state = address.get('state', '')\n",
    "            country = address.get('country', '')\n",
    "            return([Longitude,Latitude],country)\n",
    "        except TypeError:\n",
    "            print(\"TypeError-1\")\n",
    "            return None\n",
    "    else:\n",
    "        return None\n",
    " \n",
    "    # printing address\n",
    "    #print(getLoc.address)\n",
    " \n",
    "    # printing latitude and longitude\n",
    "    #print(\"Latitude = \", getLoc.latitude, \"\\n\")\n",
    "    #print(\"Longitude = \", getLoc.longitude)\n",
    "    \n",
    "    \n"
   ]
  },
  {
   "cell_type": "code",
   "execution_count": 528,
   "id": "d6563e31",
   "metadata": {},
   "outputs": [],
   "source": [
    "# get latitudes and longitudes\n",
    "\n",
    "# some helper funtions to get longs and lats\n",
    "def lats(x):\n",
    "    return x[1]\n",
    "\n",
    "def longs(x):\n",
    "    return x[0]\n",
    "\n",
    "# --------------------------------------------------------#\n",
    "def get_lat_longs(df):\n",
    "# append longs and lats to dframe\n",
    "    df['latitude'] = df['geo_code'].apply(lats)\n",
    "    df['longitude'] = df['geo_code'].apply(longs)\n",
    "    return(df)\n"
   ]
  },
  {
   "cell_type": "code",
   "execution_count": 529,
   "id": "48cf4b72",
   "metadata": {},
   "outputs": [],
   "source": [
    "# http://www.mikaelbrunila.fi/2017/03/27/scraping-extracting-mapping-geodata-twitter/\n",
    "# Note that the “coordinates” attributes is formatted as [LONGITUDE, latitude],\n",
    "\n",
    "def geo_data(df):\n",
    "    # print(df['coordinates'].head(10))\n",
    "    # print(df.columns.values)\n",
    "    df = df.reset_index()\n",
    "    df[\"geo_code\"] = np.nan\n",
    "    count=0\n",
    "    lst = []\n",
    "    for a in range(1):\n",
    "        lst.append([1, 2, 3])\n",
    "        \n",
    "    country_dict={}\n",
    "    \n",
    "    for index, tweet in df.iterrows():\n",
    "        if tweet['country']:\n",
    "            if tweet['country'].strip() in country_dict.keys():\n",
    "                tweet['country']=country_dict[tweet['country'].strip()]\n",
    "                lst.append(tweet)\n",
    "            else:\n",
    "                place=tweet['country']\n",
    "                long_lat, country =get_place_coords(place)\n",
    "                if get_place_coords(place) != None:\n",
    "                    try:\n",
    "                        long_lat, country =get_place_coords(place)\n",
    "                        if long_lat != None:\n",
    "                            tweet[\"geo_code\"]=long_lat\n",
    "                            tweet['country']=country.strip()\n",
    "                            country_dict[place.strip()]=tweet['country']\n",
    "                            lst.append(tweet)\n",
    "                            # print(long_lat)\n",
    "                    except TypeError:\n",
    "                        print(\"TypeError\")\n",
    "                        \n",
    "        elif tweet['full_name']:\n",
    "            place=tweet['full_name']\n",
    "            # print(place)\n",
    "            if get_place_coords(place) != None:\n",
    "                try:\n",
    "                    long_lat, country =get_place_coords(place)\n",
    "                    if long_lat != None:\n",
    "                        tweet[\"geo_code\"]=long_lat\n",
    "                        tweet['country']=country.strip()\n",
    "                        lst.append(tweet)\n",
    "                        # print(long_lat)\n",
    "                except TypeError:\n",
    "                    print(\"TypeError\")\n",
    "                \n",
    "        else:\n",
    "            pass\n",
    "          \n",
    "    \"\"\"\n",
    "    for index, tweet in df.iterrows():\n",
    "        # tweet_fullname=tweet['full_name']\n",
    "        if tweet['coordinates'] != \"None\":\n",
    "            #print(\"Hello\")\n",
    "            #print(tweet['coordinates'])\n",
    "            #print(type(tweet['coordinates']))\n",
    "            new_dict=ast.literal_eval(tweet['coordinates'])\n",
    "            # print(new_dict.get('coordinates'))\n",
    "            tweet[\"geo_code\"]=new_dict.get('coordinates')\n",
    "            lst.append(tweet)\n",
    "            #print(df[\"geo_code\"].get('coordinates') )\n",
    "            \n",
    "        elif tweet['full_name']:\n",
    "            print(tweet['country'])\n",
    "            place=tweet['full_name']\n",
    "            # print(place)\n",
    "            if get_place_coords(place) != None:\n",
    "                try:\n",
    "                    long_lat, country =get_place_coords(place)\n",
    "                    if long_lat != None:\n",
    "                        tweet[\"geo_code\"]=long_lat\n",
    "                        tweet['country']=country\n",
    "                        lst.append(tweet)\n",
    "                        # print(long_lat)\n",
    "                except TypeError:\n",
    "                    print(\"TypeError\")\n",
    "        \n",
    "        elif tweet['country']:\n",
    "            #print(\"Got in here\")\n",
    "            place=tweet['country']\n",
    "            # print(place)\n",
    "            long_lat, country =get_place_coords(place)\n",
    "            if get_place_coords(place) != None:\n",
    "                try:\n",
    "                    long_lat, country =get_place_coords(place)\n",
    "                    if long_lat != None:\n",
    "                        tweet[\"geo_code\"]=long_lat\n",
    "                        tweet['country']=country\n",
    "                        lst.append(tweet)\n",
    "                        # print(long_lat)\n",
    "                except TypeError:\n",
    "                    print(\"TypeError\")\n",
    "                \n",
    "        else:\n",
    "            pass\n",
    "      \"\"\"\n",
    "\n",
    "        \n",
    "    \n",
    "    # columns= df.columns.values.tolist()\n",
    "    geo_data_df = pd.DataFrame(lst, columns= df.columns.values.tolist())\n",
    "    geo_data_df = geo_data_df.iloc[1: , :]\n",
    "    #print(\"GeoDate:\")\n",
    "    #print(geo_data_df.columns.values.tolist())\n",
    "    #print(geo_data_df.head(10))\n",
    "    del df\n",
    "    \n",
    "    # geo_data_df = get_lat_longs(geo_data_df)\n",
    "    # print(geo_data_df.head(3))\n",
    "    \n",
    "    return(geo_data_df)\n",
    "    \n",
    "\n"
   ]
  },
  {
   "cell_type": "code",
   "execution_count": 530,
   "id": "5c13d76b",
   "metadata": {},
   "outputs": [],
   "source": [
    "def all_world(df):\n",
    "\n",
    "    # extract total sentiment per country\n",
    "    # df_country_sentiment = df.groupby(['country'])['predictions'].value_counts().unstack().fillna(0.0).reset_index()\n",
    "    no_tweets=df.groupby('country').size()\n",
    "    df_no_tweets=pd.DataFrame({'country':no_tweets.index, 'no. of tweets':no_tweets.values})\n",
    "    #print('Countries Tweet No')\n",
    "    #print(df_no_tweets.head(5))\n",
    "    #old_cols=df_no_tweets.columns.values.tolist()\n",
    "    #print(old_cols)\n",
    "    df_country_sentiment = df.groupby(['country'])['predictions'].mean().fillna(0.0).reset_index().round(2)\n",
    "    print('Columns Merged')\n",
    "    df_country_sentiment = df_country_sentiment.merge(df_no_tweets, on='country', how = 'inner')\n",
    "    print(df_country_sentiment.head(5))\n",
    "    \n",
    "    \n",
    "    # old_cols=df.columns.values.tolist()\n",
    "    # df_state_sentiment.rename(columns={old_cols[0]: \"states\", old_cols[1]: \"Negative\", old_cols[2]: \"Positive\"})\n",
    "    #df_country_sentiment.rename(columns={0.0: \"Negative\", 1.0: \"Positive\"}, inplace = True)\n",
    "    df_country_sentiment.rename(columns={'predictions': 'total_sentiment'}, inplace = True)\n",
    "    print(len(df_country_sentiment.columns))\n",
    "    print(df_country_sentiment.columns.values)\n",
    "\n",
    "    #df_country_sentiment['total_sentiment'] = df_country_sentiment[\"Positive\"]-df_country_sentiment[\"Negative\"]\n",
    "    #print(df_country_sentiment.head(5))\n",
    "\n",
    "    # Set notebook mode to work in offline\n",
    "    # https://stackoverflow.com/questions/52771328/plotly-chart-not-showing-in-jupyter-notebook\n",
    "    \n",
    "    \n",
    "    # Create the sentiment by state Heat Map \n",
    "    colorscale= [\n",
    "                [0, 'rgb(31,120,180)'], \n",
    "                [0.35, 'rgb(166, 206, 227)'], \n",
    "                [0.75, 'rgb(251,154,153)'], \n",
    "                [1, 'rgb(227,26,28)']\n",
    "                ]\n",
    "\n",
    "    data = dict(type='choropleth',\n",
    "                colorscale = colorscale,\n",
    "                reversescale=True,\n",
    "                locations = df_country_sentiment['country'],\n",
    "                z = df_country_sentiment['total_sentiment'],\n",
    "                locationmode ='country names',\n",
    "                text = df_country_sentiment['country']+\" Total Texts: \",\n",
    "                marker = dict(line = dict(color = 'rgb(255,255,255)',width = 2)),\n",
    "                colorbar = {'tickvals':[-1, 0, 1], 'ticktext':[\"Negative\", \"Neutral\", \"Positive\"], 'ticks':\"outside\"}\n",
    "                ) # 'title':\"Average Sentiment\", \n",
    "\n",
    "    layout = dict(title = 'Average Twitter Sentiment per Country: New Batman Movie', geo = dict(scope='world'))\n",
    "    print(df_country_sentiment.head(20))\n",
    "    choromap_us = go.Figure(data = [data],layout = layout, layout_title_text='Average Twitter Sentiment per Country: New Batman Movie')\n",
    "    \n",
    "    pio.renderers.default = 'jupyterlab'\n",
    "    choromap_us.show()   \n",
    "    tester=plotly.offline.plot(choromap_us,auto_open=True, image = 'png', image_filename='plot_image', output_type='file', image_width=800, image_height=600, filename='temp-plot.html', validate=False) # filename='img_map.html'\n",
    "    upload_blob(\"cloud-project-bucket-1981\", tester, \"images/world.html\") \n"
   ]
  },
  {
   "cell_type": "code",
   "execution_count": 531,
   "id": "b0634061",
   "metadata": {},
   "outputs": [],
   "source": [
    "def get_state(x):\n",
    "    \n",
    "    states = [\"AL\", \"AK\", \"AZ\", \"AR\", \"CA\", \"CO\", \"CT\", \"DC\", \"DE\", \"FL\", \"GA\", \n",
    "              \"HI\", \"ID\", \"IL\", \"IN\", \"IA\", \"KS\", \"KY\", \"LA\", \"ME\", \"MD\", \n",
    "              \"MA\", \"MI\", \"MN\", \"MS\", \"MO\", \"MT\", \"NE\", \"NV\", \"NH\", \"NJ\", \n",
    "              \"NM\", \"NY\", \"NC\", \"ND\", \"OH\", \"OK\", \"OR\", \"PA\", \"RI\", \"SC\", \n",
    "              \"SD\", \"TN\", \"TX\", \"UT\", \"VT\", \"VA\", \"WA\", \"WV\", \"WI\", \"WY\"]\n",
    "\n",
    "    states_dict = {\n",
    "            'AK': 'Alaska','AL': 'Alabama','AR': 'Arkansas','AS': 'American Samoa',\n",
    "            'AZ': 'Arizona','CA': 'California','CO': 'Colorado','CT': 'Connecticut',\n",
    "            'DC': 'District of Columbia','DE': 'Delaware','FL': 'Florida','GA': 'Georgia',\n",
    "            'GU': 'Guam','HI': 'Hawaii','IA': 'Iowa','ID': 'Idaho','IL': 'Illinois',\n",
    "            'IN': 'Indiana','KS': 'Kansas','KY': 'Kentucky','LA': 'Louisiana',\n",
    "            'MA': 'Massachusetts','MD': 'Maryland','ME': 'Maine','MI': 'Michigan',\n",
    "            'MN': 'Minnesota','MO': 'Missouri','MP': 'Northern Mariana Islands',\n",
    "            'MS': 'Mississippi','MT': 'Montana','NA': 'National','NC': 'North Carolina',\n",
    "            'ND': 'North Dakota','NE': 'Nebraska','NH': 'New Hampshire','NJ': 'New Jersey',\n",
    "            'NM': 'New Mexico','NV': 'Nevada','NY': 'New York','OH': 'Ohio','OK': 'Oklahoma',\n",
    "            'OR': 'Oregon','PA': 'Pennsylvania','PR': 'Puerto Rico','RI': 'Rhode Island',\n",
    "            'SC': 'South Carolina','SD': 'South Dakota','TN': 'Tennessee','TX': 'Texas',\n",
    "            'UT': 'Utah','VA': 'Virginia','VI': 'Virgin Islands','VT': 'Vermont',\n",
    "            'WA': 'Washington','WI': 'Wisconsin','WV': 'West Virginia','WY': 'Wyoming'\n",
    "    }\n",
    "\n",
    "\n",
    "    abv = x.split(',')[-1].lstrip().upper()\n",
    "    state_name = x.split(',')[0].lstrip()\n",
    "    if abv in states:\n",
    "        state = abv\n",
    "    else:\n",
    "        if state_name in states_dict.values():\n",
    "            state = list(states_dict.keys())[list(states_dict.values()).index(state_name)]\n",
    "        else:\n",
    "            state = 'Non_USA'    \n",
    "    return state"
   ]
  },
  {
   "cell_type": "code",
   "execution_count": 532,
   "id": "aa4dd4c1",
   "metadata": {},
   "outputs": [],
   "source": [
    "def usa_non_usa(df):\n",
    "    # create abreviated states column\n",
    "    df = df.copy()\n",
    "    df['states'] = df['full_name'].apply(get_state)\n",
    "    # print(list(df['states'].head()))\n",
    "    # plot tweets distribution by state\n",
    "    plt.style.use('seaborn-darkgrid')\n",
    "    df_states = df[df.country=='United States']\n",
    "    df_states = df_states[df_states.states!='Non_USA']\n",
    "    \n",
    "    # extract total sentiment per state\n",
    "    # df_state_sentiment = df_states.groupby(['states'])['predictions'].value_counts().unstack().fillna(0.0).reset_index()\n",
    "    no_tweets=df_states.groupby('states').size()\n",
    "    df_no_tweets=pd.DataFrame({'states':no_tweets.index, 'no. of tweets':no_tweets.values})\n",
    "\n",
    "    df_state_sentiment = df_states.groupby(['states'])['predictions'].mean().fillna(0.0).reset_index().round(2)\n",
    "    print('State Columns Merged')\n",
    "    df_state_sentiment = df_state_sentiment.merge(df_no_tweets, on='states', how = 'inner')\n",
    "    print(df_state_sentiment.head(5))\n",
    "    \n",
    "    # old_cols=df.columns.values.tolist()\n",
    "    # df_state_sentiment.rename(columns={old_cols[0]: \"states\", old_cols[1]: \"Negative\", old_cols[2]: \"Positive\"})\n",
    "    # df_state_sentiment.rename(columns={0.0: \"Negative\", 1.0: \"Positive\"}, inplace = True)\n",
    "    df_state_sentiment.rename(columns={'predictions': 'total_sentiment'}, inplace = True)\n",
    "    print(len(df_state_sentiment.columns))\n",
    "    print(df_state_sentiment.columns.values)\n",
    "    # df_state_sentiment['total_sentiment'] = df_state_sentiment[\"Positive\"]-df_state_sentiment[\"Negative\"]\n",
    "    print(df_state_sentiment.head(5))\n",
    "    # Set notebook mode to work in offline\n",
    "    # https://stackoverflow.com/questions/52771328/plotly-chart-not-showing-in-jupyter-notebook\n",
    "    \n",
    "    \n",
    "    # Create the sentiment by state Heat Map \n",
    "    colorscale= [\n",
    "                [0, 'rgb(31,120,180)'], \n",
    "                [0.35, 'rgb(166, 206, 227)'], \n",
    "                [0.75, 'rgb(251,154,153)'], \n",
    "                [1, 'rgb(227,26,28)']\n",
    "                ]\n",
    "\n",
    "    data = dict(type='choropleth',\n",
    "                colorscale = colorscale,\n",
    "                reversescale=True,\n",
    "                locations = df_state_sentiment['states'],\n",
    "                z = df_state_sentiment['total_sentiment'],\n",
    "                locationmode = 'USA-states',\n",
    "                text = df_state_sentiment['states']+\" Total Texts: \",\n",
    "                marker = dict(line = dict(color = 'rgb(255,255,255)',width = 2)),\n",
    "                colorbar = {'title':\"Average Sentiment\", 'tickvals':[-1, 0, 1], 'ticktext':[\"Negative\", \"Neutral\", \"Positive\"], 'ticks':\"outside\"}\n",
    "                )\n",
    "\n",
    "    layout = dict(title = 'Twitter Sentiment: New Batman Movie', geo = dict(scope='usa'))\n",
    "    print(df_state_sentiment.head(2))\n",
    "    choromap_us = go.Figure(data = [data],layout = layout, layout_title_text='Average Twitter Sentiment by US state: New Batman Movie')\n",
    "    pio.renderers.default = 'jupyterlab'\n",
    "    choromap_us.show()   \n",
    "    tester=plotly.offline.plot(choromap_us,auto_open=True, image = 'png', image_filename='plot_image', output_type='file', image_width=800, image_height=600, filename='temp-plot.html', validate=False) # filename='img_map.html'\n",
    "    # plotly.offline.plot(choromap_us, filename='img_map.html',auto_open=True, image = 'png', image_filename='plot_image',\n",
    "             #output_type='file', image_width=800, image_height=600, validate=False)  # save html map gs://cloud-project-bucket-1981/images/img_map.html\n",
    "    # plot_mpl(choromap_us)\n",
    "    # If you want to to download an image of the figure as well\n",
    "    # tester=plot_mpl(choromap_us, image='jpeg')\n",
    "    upload_blob(\"cloud-project-bucket-1981\", tester, \"images/us_states.html\") \n",
    "    # IFrame('gs://cloud-project-bucket-1981/images/img_map.html', width=950, height=700)  # view saved map html file\n",
    "\n",
    "    # use the folium library to create all tweet origins in the dataset on map of US\n",
    "\n",
    "    \"\"\"\n",
    "    geoplots = []\n",
    "    for index, row in df_states[['latitude','longitude','predictions']].iterrows():\n",
    "        geoplots.append([row['latitude'],row['longitude'],row['predictions']])\n",
    "    print(\"What about here?\")\n",
    "    mus = folium.Map(location=[39, -99], zoom_start=4)\n",
    "    plugins.Fullscreen(\n",
    "        position='topright',\n",
    "        title='Expand me',\n",
    "        title_cancel='Exit me',\n",
    "        force_separate_button=True).add_to(mus)\n",
    "\n",
    "    mus.choropleth(\n",
    "        geo_data='us_states.geojson',\n",
    "        fill_color='red', \n",
    "        fill_opacity=0.1, \n",
    "        line_opacity=0.2,\n",
    "        name='US States')\n",
    "    \n",
    "    mus.add_child(plugins.HeatMap(geoplots,\n",
    "                                name='Twitter HeatMap',\n",
    "                                radius=10,\n",
    "                                max_zoom=1,\n",
    "                                blur=10, \n",
    "                                max_val=3.0))\n",
    "    folium.TileLayer('cartodbpositron').add_to(mus)\n",
    "    folium.TileLayer('cartodbdark_matter').add_to(mus)\n",
    "    folium.TileLayer('Mapbox Control Room').add_to(mus)\n",
    "    folium.LayerControl().add_to(mus)\n",
    "    print(\"here?\")\n",
    "    print(mus)\n",
    "    HTML(mus)\n",
    "    display(HTML(mus))\n",
    "    display(mus)\n",
    "    mus.show()\n",
    "    plot_mpl(mus)\n",
    "    # If you want to to download an image of the figure as well\n",
    "    tester=plot_mpl(fig)\n",
    "    upload_blob(\"cloud-project-bucket-1981\", tester, \"twitter_us_map.html\") \n",
    "    mus.save(\"gs://cloud-project-bucket-1981/images/twitter_us_map.html\")\n",
    "    webbrowser.open(\"gs://cloud-project-bucket-1981/images/twitter_us_map.html\")\n",
    "    IFrame(\"gs://cloud-project-bucket-1981/images/twitter_us_map.html\", width=960, height=520)\n",
    "\n",
    "    # some code to save and display image to png  for all browsers support\n",
    "    img = plt.imread('gs://cloud-project-bucket-1981/images/twitter_sentiment_crop.png')\n",
    "    plt.figure(figsize=(18,9))\n",
    "    plt.show()\n",
    "    plt.imshow(img)\n",
    "    \"\"\"\n",
    "\n",
    "    \n",
    "    "
   ]
  },
  {
   "cell_type": "code",
   "execution_count": 533,
   "id": "3cca7d33",
   "metadata": {},
   "outputs": [],
   "source": [
    "# https://cloud.google.com/storage/docs/uploading-objects\n",
    "\n",
    "def upload_blob(bucket_name, source_file_name, destination_blob_name):\n",
    "    \"\"\"Uploads a file to the bucket.\"\"\"\n",
    "    # The ID of your GCS bucket\n",
    "    # bucket_name = \"your-bucket-name\"\n",
    "    # The path to your file to upload\n",
    "    # source_file_name = \"local/path/to/file\"\n",
    "    # The ID of your GCS object\n",
    "    # destination_blob_name = \"storage-object-name\"\n",
    "\n",
    "    storage_client = storage.Client()\n",
    "    bucket = storage_client.bucket(bucket_name)\n",
    "    blob = bucket.blob(destination_blob_name)\n",
    "\n",
    "    blob.upload_from_filename(source_file_name)\n",
    "\n",
    "    print(\n",
    "        \"File {} uploaded to {}.\".format(\n",
    "            source_file_name, destination_blob_name\n",
    "        )\n",
    "    )"
   ]
  },
  {
   "cell_type": "code",
   "execution_count": 534,
   "id": "8871d552",
   "metadata": {},
   "outputs": [],
   "source": [
    "def wordcloud_creator(tweets):\n",
    "    # https://www.analyticsvidhya.com/blog/2021/08/creating-customized-word-cloud-in-python/\n",
    "    # Create stopword\n",
    "    stopwords = set(STOPWORDS)\n",
    "    text = \" \".join(review for review in tweets.words.astype(str))\n",
    "    wordcloud = WordCloud(max_font_size=50, max_words=50, collocations = False, background_color=\"black\", stopwords = STOPWORDS).generate(text) # width=1200, height=1000,\n",
    "    #Display the image\n",
    "    plt.imshow(wordcloud, interpolation=\"bilinear\")\n",
    "    # plt.figure()\n",
    "    plt.axis(\"off\")\n",
    "    # https://stackoverflow.com/questions/51054835/upload-matplotlib-output-plot-to-cloud-storage-from-flask-python\n",
    "    client = storage.Client()\n",
    "    bucket = client.bucket(\"cloud-project-bucket-1981\")\n",
    "    blob = bucket.blob('images/image_four.png')\n",
    "    buf = io.BytesIO()\n",
    "    plt.savefig(buf, format='png')\n",
    "    # upload buffer contents to gcs\n",
    "    blob.upload_from_string(buf.getvalue(),content_type='image/png')\n",
    "\n",
    "    buf.close()\n",
    "\n",
    "    plt.show()\n",
    "    plt.clf()\n",
    "    \n"
   ]
  },
  {
   "cell_type": "code",
   "execution_count": 535,
   "id": "bc8f5601",
   "metadata": {},
   "outputs": [],
   "source": [
    "def sent_breakdown(testDF):\n",
    "    # get_ipython().run_line_magic('matplotlib', 'inline')\n",
    "    df_2 = testDF.groupby('analysis').count()\n",
    "    df_2.reset_index(inplace=True)\n",
    "    df_2.head()\n",
    "    sns.barplot(x='analysis', y='id', data=df_2).set(title='Analysis of Sentiment per Category',xlabel='Sentiment Label', ylabel='Number of Tweets')\n",
    "    client = storage.Client()\n",
    "    bucket = client.bucket(\"cloud-project-bucket-1981\")\n",
    "    blob = bucket.blob('images/image_two.png')\n",
    "    buf = io.BytesIO()\n",
    "    plt.savefig(buf, format='png')\n",
    "    # upload buffer contents to gcs\n",
    "    blob.upload_from_string(buf.getvalue(),content_type='image/png')\n",
    "    buf.close()\n",
    "    #upload_blob(\"cloud-project-bucket-1981\", tester, \"images/fig1000.html\") \n",
    "    plt.show()\n",
    "    plt.clf()\n",
    "    del df_2"
   ]
  },
  {
   "cell_type": "code",
   "execution_count": 536,
   "id": "da949825",
   "metadata": {},
   "outputs": [],
   "source": [
    "def word_freq_plot(data):\n",
    "    \n",
    "    \"\"\"\n",
    "    # plot word frequency distribution of first few words\n",
    "    all_words=common_words(data)\n",
    "    plt.figure(figsize=(12,5))\n",
    "    plt.title('Top 25 most common words')\n",
    "    plt.ylabel('Number of occurences', fontsize=13)\n",
    "    plt.xlabel('Word', fontsize=13)\n",
    "    plt.xticks(fontsize=13, rotation=90)\n",
    "    fd = nltk.FreqDist(all_words)\n",
    "    fd.plot(25,cumulative=False)\n",
    "    \"\"\"\n",
    "    \n",
    "    ## Creating Frequency Distribution for whole BoW, keeping the 25 most common tokens\n",
    "    all_words=common_words(data)\n",
    "    all_fdist = nltk.FreqDist(all_words).most_common(25)\n",
    "\n",
    "    ## Conversion to Pandas series via Python Dictionary for easier plotting\n",
    "    all_fdist = pd.Series(dict(all_fdist))\n",
    "\n",
    "    ## Setting figure, ax into variables\n",
    "    fig, ax = plt.subplots(figsize=(12,5))\n",
    "\n",
    "    ## Seaborn plotting using Pandas attributes + xtick rotation for ease of viewing\n",
    "    sns.set_theme(style=\"darkgrid\")\n",
    "    all_plot = sns.lineplot(x=all_fdist.index, y=all_fdist.values, ax=ax)\n",
    "    plt.title('Top 25 most common words')\n",
    "    plt.ylabel('Number of occurences', fontsize=13)\n",
    "    plt.xlabel('Word', fontsize=13)\n",
    "    plt.xticks(fontsize=13, rotation=90);\n",
    "    \n",
    "    client = storage.Client()\n",
    "    bucket = client.bucket(\"cloud-project-bucket-1981\")\n",
    "    blob = bucket.blob('images/image_three.png')\n",
    "    buf = io.BytesIO()\n",
    "    plt.savefig(buf, format='png')\n",
    "    # upload buffer contents to gcs\n",
    "    blob.upload_from_string(buf.getvalue(),content_type='image/png')\n",
    "\n",
    "    buf.close()\n",
    "    #upload_blob(\"cloud-project-bucket-1981\", tester, \"images/fig1000.html\") \n",
    "\n",
    "    plt.show()\n",
    "    plt.clf()\n",
    "    \"\"\"\n",
    "    # log-log plot\n",
    "    word_counts = sorted(Counter(all_words).values(), reverse=True)\n",
    "    plt.figure(figsize=(12,5))\n",
    "    plt.loglog(word_counts, linestyle='-', linewidth=1.5)\n",
    "    plt.ylabel(\"Freq\")\n",
    "    plt.xlabel(\"Word Rank\")\n",
    "    plt.title('log-log plot of words frequency')\n",
    "    plt.clf()\n",
    "    \"\"\""
   ]
  },
  {
   "cell_type": "code",
   "execution_count": 537,
   "id": "44df9712",
   "metadata": {},
   "outputs": [],
   "source": [
    "def tweets_per_country(df):\n",
    "    # plot histogram of tweets counts by country of origin\n",
    "    file_name=\"images/tweets_per_country1.html\"\n",
    "    sns.set_style(\"darkgrid\")\n",
    "    x = df.country.value_counts(1).head(20)\n",
    "    x.plot(kind='bar',figsize=(10,6),fontsize=13,color='steelblue')\n",
    "    plt.title('Proportion of Tweets(Top 20 Countries)')\n",
    "    plt.ylabel('Proportion of Total Tweets', fontsize=13)\n",
    "    plt.xlabel('Country', fontsize=13)\n",
    "    # https://stackoverflow.com/questions/51054835/upload-matplotlib-output-plot-to-cloud-storage-from-flask-python\n",
    "    client = storage.Client()\n",
    "    bucket = client.bucket(\"cloud-project-bucket-1981\")\n",
    "    blob = bucket.blob('images/image_one.png')\n",
    "    buf = io.BytesIO()\n",
    "    plt.savefig(buf, format='png')\n",
    "    # upload buffer contents to gcs\n",
    "    blob.upload_from_string(buf.getvalue(),content_type='image/png')\n",
    "\n",
    "    buf.close()\n",
    "\n",
    "\n",
    "    #upload_blob(\"cloud-project-bucket-1981\", tester, \"images/fig1000.html\") \n",
    "\n",
    "    plt.show()\n",
    "    plt.clf()"
   ]
  },
  {
   "cell_type": "code",
   "execution_count": 538,
   "id": "9b1c6d36",
   "metadata": {},
   "outputs": [],
   "source": [
    "def build_dataframe(df):\n",
    "    del df['message']\n",
    "     # Rename column headers\n",
    "    df.rename(columns={'created_at': 'date', 'words': 'message',  'bounding_box_coordinates':'bbox_coords', 'place_coordinates':'coordinates','place_full_name':'full_name', 'place_country':'country', 'place_country_code':'country_code'}, inplace=True)\n",
    "    # Sort dataframe by date column\n",
    "    df['date'] = pd.to_datetime(df['date'])\n",
    "    df = df.sort_values(by='date',ascending=True)\n",
    "    df = df.reset_index().drop('index',axis=1)\n",
    "    df['predictions'] = df.apply (lambda row: sent_number(row), axis=1)\n",
    "    df = df[df['predictions'].notna()] \n",
    "    # print(df['predictions'].unique())\n",
    "    geo_data_df=geo_data(df)\n",
    "    print('total length of the data with country information is:            {}'.format(geo_data_df.shape[0]))\n",
    "    del df\n",
    "    \n",
    "    tweets_per_country(geo_data_df)\n",
    "    usa_non_usa(geo_data_df)\n",
    "    all_world(geo_data_df)\n",
    "\n",
    "\n",
    "\n",
    "    \n",
    "    "
   ]
  },
  {
   "cell_type": "code",
   "execution_count": 539,
   "id": "69e4d841",
   "metadata": {},
   "outputs": [],
   "source": [
    "def visualize_results_from_batch(tweets):\n",
    "    # https://stackoverflow.com/questions/36018681/stop-seaborn-plotting-multiple-figures-on-top-of-one-another\n",
    "    sent_breakdown(tweets)\n",
    "    wordcloud_creator(tweets)\n",
    "    data_details(tweets)\n",
    "    word_freq_plot(tweets)\n",
    "    build_dataframe(tweets)"
   ]
  },
  {
   "cell_type": "code",
   "execution_count": 540,
   "id": "8d0e921d",
   "metadata": {},
   "outputs": [],
   "source": [
    "def tweet_processing(tweets):\n",
    "    \n",
    "    df = tweets.toPandas()\n",
    "    tweets = df_text_classification(df)\n",
    "    tweets = text_cleaning(tweets)\n",
    "    \n",
    "    return tweets\n",
    "    "
   ]
  },
  {
   "cell_type": "code",
   "execution_count": 541,
   "id": "a2d4e288",
   "metadata": {},
   "outputs": [],
   "source": [
    "def start_batch_processing(spark):\n",
    "    # folderDF = spark.read.text('gs://cloud-project-bucket-1981/Data/*')\n",
    "    folderDF = spark.read.text('gs://cloud-project-bucket-1981/DataReduced/*')\n",
    "    # folderDF = spark.read.text('gs://cloud-project-bucket-1981/Data/2022-03-14-13-54-1503368870647672833-1503368870647672833.json')\n",
    "    tweets = folderDF\n",
    "    tweets = process_streams(folderDF)\n",
    "    tweets = tweet_processing(tweets)\n",
    "    # tweets = text_classification(tweets)\n",
    "    return tweets"
   ]
  },
  {
   "cell_type": "code",
   "execution_count": 542,
   "id": "8ca7fff8",
   "metadata": {},
   "outputs": [
    {
     "name": "stderr",
     "output_type": "stream",
     "text": [
      "22/03/16 19:50:29 INFO org.apache.spark.SparkEnv: Registering MapOutputTracker\n",
      "22/03/16 19:50:29 INFO org.apache.spark.SparkEnv: Registering BlockManagerMaster\n",
      "22/03/16 19:50:29 INFO org.apache.spark.SparkEnv: Registering BlockManagerMasterHeartbeat\n",
      "22/03/16 19:50:29 INFO org.apache.spark.SparkEnv: Registering OutputCommitCoordinator\n",
      "                                                                                \r"
     ]
    },
    {
     "data": {
      "image/png": "[encoded data removed]",
      "text/plain": [
       "<Figure size 432x288 with 1 Axes>"
      ]
     },
     "metadata": {
      "needs_background": "light"
     },
     "output_type": "display_data"
    },
    {
     "data": {
      "image/png": "[encoded data removed]",
      "text/plain": [
       "<Figure size 432x288 with 1 Axes>"
      ]
     },
     "metadata": {
      "needs_background": "light"
     },
     "output_type": "display_data"
    },
    {
     "name": "stdout",
     "output_type": "stream",
     "text": [
      "number of positve tagged sentences is:  3696\n",
      "number of negative tagged sentences is: 1164\n",
      "total length of the data is:            9000\n"
     ]
    },
    {
     "data": {
      "text/plain": [
       "<Figure size 432x288 with 0 Axes>"
      ]
     },
     "metadata": {},
     "output_type": "display_data"
    },
    {
     "data": {
      "text/plain": [
       "<Figure size 864x432 with 0 Axes>"
      ]
     },
     "metadata": {},
     "output_type": "display_data"
    },
    {
     "data": {
      "image/png": "[encoded data removed]",
      "text/plain": [
       "<Figure size 864x360 with 1 Axes>"
      ]
     },
     "metadata": {
      "needs_background": "light"
     },
     "output_type": "display_data"
    },
    {
     "name": "stdout",
     "output_type": "stream",
     "text": [
      "total length of the data with country information is:            45\n"
     ]
    },
    {
     "data": {
      "image/png": "[encoded data removed]",
      "text/plain": [
       "<Figure size 720x432 with 1 Axes>"
      ]
     },
     "metadata": {},
     "output_type": "display_data"
    },
    {
     "name": "stdout",
     "output_type": "stream",
     "text": [
      "State Columns Merged\n",
      "  states  predictions  no. of tweets\n",
      "0     CA         0.67              3\n",
      "1     FL         1.00              1\n",
      "2     ID         1.00              1\n",
      "3     MA         1.00              1\n",
      "4     MD         1.00              1\n",
      "3\n",
      "['states' 'total_sentiment' 'no. of tweets']\n",
      "  states  total_sentiment  no. of tweets\n",
      "0     CA             0.67              3\n",
      "1     FL             1.00              1\n",
      "2     ID             1.00              1\n",
      "3     MA             1.00              1\n",
      "4     MD             1.00              1\n",
      "  states  total_sentiment  no. of tweets\n",
      "0     CA             0.67              3\n",
      "1     FL             1.00              1\n"
     ]
    },
    {
     "data": {
      "application/vnd.plotly.v1+json": {
       "config": {
        "plotlyServerURL": "https://plot.ly"
       },
       "data": [
        {
         "colorbar": {
          "ticks": "outside",
          "ticktext": [
           "Negative",
           "Neutral",
           "Positive"
          ],
          "tickvals": [
           -1,
           0,
           1
          ],
          "title": {
           "text": "Average Sentiment"
          }
         },
         "colorscale": [
          [
           0,
           "rgb(31,120,180)"
          ],
          [
           0.35,
           "rgb(166, 206, 227)"
          ],
          [
           0.75,
           "rgb(251,154,153)"
          ],
          [
           1,
           "rgb(227,26,28)"
          ]
         ],
         "locationmode": "USA-states",
         "locations": [
          "CA",
          "FL",
          "ID",
          "MA",
          "MD",
          "MO",
          "NV",
          "OH",
          "SC",
          "TX",
          "VT",
          "WI"
         ],
         "marker": {
          "line": {
           "color": "rgb(255,255,255)",
           "width": 2
          }
         },
         "reversescale": true,
         "text": [
          "CA Total Texts: ",
          "FL Total Texts: ",
          "ID Total Texts: ",
          "MA Total Texts: ",
          "MD Total Texts: ",
          "MO Total Texts: ",
          "NV Total Texts: ",
          "OH Total Texts: ",
          "SC Total Texts: ",
          "TX Total Texts: ",
          "VT Total Texts: ",
          "WI Total Texts: "
         ],
         "type": "choropleth",
         "z": [
          0.67,
          1,
          1,
          1,
          1,
          0,
          0,
          0.5,
          0,
          -1,
          0,
          1
         ]
        }
       ],
       "layout": {
        "autosize": true,
        "geo": {
         "scope": "usa"
        },
        "template": {
         "data": {
          "bar": [
           {
            "error_x": {
             "color": "#2a3f5f"
            },
            "error_y": {
             "color": "#2a3f5f"
            },
            "marker": {
             "line": {
              "color": "#E5ECF6",
              "width": 0.5
             },
             "pattern": {
              "fillmode": "overlay",
              "size": 10,
              "solidity": 0.2
             }
            },
            "type": "bar"
           }
          ],
          "barpolar": [
           {
            "marker": {
             "line": {
              "color": "#E5ECF6",
              "width": 0.5
             },
             "pattern": {
              "fillmode": "overlay",
              "size": 10,
              "solidity": 0.2
             }
            },
            "type": "barpolar"
           }
          ],
          "carpet": [
           {
            "aaxis": {
             "endlinecolor": "#2a3f5f",
             "gridcolor": "white",
             "linecolor": "white",
             "minorgridcolor": "white",
             "startlinecolor": "#2a3f5f"
            },
            "baxis": {
             "endlinecolor": "#2a3f5f",
             "gridcolor": "white",
             "linecolor": "white",
             "minorgridcolor": "white",
             "startlinecolor": "#2a3f5f"
            },
            "type": "carpet"
           }
          ],
          "choropleth": [
           {
            "colorbar": {
             "outlinewidth": 0,
             "ticks": ""
            },
            "type": "choropleth"
           }
          ],
          "contour": [
           {
            "colorbar": {
             "outlinewidth": 0,
             "ticks": ""
            },
            "colorscale": [
             [
              0,
              "#0d0887"
             ],
             [
              0.1111111111111111,
              "#46039f"
             ],
             [
              0.2222222222222222,
              "#7201a8"
             ],
             [
              0.3333333333333333,
              "#9c179e"
             ],
             [
              0.4444444444444444,
              "#bd3786"
             ],
             [
              0.5555555555555556,
              "#d8576b"
             ],
             [
              0.6666666666666666,
              "#ed7953"
             ],
             [
              0.7777777777777778,
              "#fb9f3a"
             ],
             [
              0.8888888888888888,
              "#fdca26"
             ],
             [
              1,
              "#f0f921"
             ]
            ],
            "type": "contour"
           }
          ],
          "contourcarpet": [
           {
            "colorbar": {
             "outlinewidth": 0,
             "ticks": ""
            },
            "type": "contourcarpet"
           }
          ],
          "heatmap": [
           {
            "colorbar": {
             "outlinewidth": 0,
             "ticks": ""
            },
            "colorscale": [
             [
              0,
              "#0d0887"
             ],
             [
              0.1111111111111111,
              "#46039f"
             ],
             [
              0.2222222222222222,
              "#7201a8"
             ],
             [
              0.3333333333333333,
              "#9c179e"
             ],
             [
              0.4444444444444444,
              "#bd3786"
             ],
             [
              0.5555555555555556,
              "#d8576b"
             ],
             [
              0.6666666666666666,
              "#ed7953"
             ],
             [
              0.7777777777777778,
              "#fb9f3a"
             ],
             [
              0.8888888888888888,
              "#fdca26"
             ],
             [
              1,
              "#f0f921"
             ]
            ],
            "type": "heatmap"
           }
          ],
          "heatmapgl": [
           {
            "colorbar": {
             "outlinewidth": 0,
             "ticks": ""
            },
            "colorscale": [
             [
              0,
              "#0d0887"
             ],
             [
              0.1111111111111111,
              "#46039f"
             ],
             [
              0.2222222222222222,
              "#7201a8"
             ],
             [
              0.3333333333333333,
              "#9c179e"
             ],
             [
              0.4444444444444444,
              "#bd3786"
             ],
             [
              0.5555555555555556,
              "#d8576b"
             ],
             [
              0.6666666666666666,
              "#ed7953"
             ],
             [
              0.7777777777777778,
              "#fb9f3a"
             ],
             [
              0.8888888888888888,
              "#fdca26"
             ],
             [
              1,
              "#f0f921"
             ]
            ],
            "type": "heatmapgl"
           }
          ],
          "histogram": [
           {
            "marker": {
             "pattern": {
              "fillmode": "overlay",
              "size": 10,
              "solidity": 0.2
             }
            },
            "type": "histogram"
           }
          ],
          "histogram2d": [
           {
            "colorbar": {
             "outlinewidth": 0,
             "ticks": ""
            },
            "colorscale": [
             [
              0,
              "#0d0887"
             ],
             [
              0.1111111111111111,
              "#46039f"
             ],
             [
              0.2222222222222222,
              "#7201a8"
             ],
             [
              0.3333333333333333,
              "#9c179e"
             ],
             [
              0.4444444444444444,
              "#bd3786"
             ],
             [
              0.5555555555555556,
              "#d8576b"
             ],
             [
              0.6666666666666666,
              "#ed7953"
             ],
             [
              0.7777777777777778,
              "#fb9f3a"
             ],
             [
              0.8888888888888888,
              "#fdca26"
             ],
             [
              1,
              "#f0f921"
             ]
            ],
            "type": "histogram2d"
           }
          ],
          "histogram2dcontour": [
           {
            "colorbar": {
             "outlinewidth": 0,
             "ticks": ""
            },
            "colorscale": [
             [
              0,
              "#0d0887"
             ],
             [
              0.1111111111111111,
              "#46039f"
             ],
             [
              0.2222222222222222,
              "#7201a8"
             ],
             [
              0.3333333333333333,
              "#9c179e"
             ],
             [
              0.4444444444444444,
              "#bd3786"
             ],
             [
              0.5555555555555556,
              "#d8576b"
             ],
             [
              0.6666666666666666,
              "#ed7953"
             ],
             [
              0.7777777777777778,
              "#fb9f3a"
             ],
             [
              0.8888888888888888,
              "#fdca26"
             ],
             [
              1,
              "#f0f921"
             ]
            ],
            "type": "histogram2dcontour"
           }
          ],
          "mesh3d": [
           {
            "colorbar": {
             "outlinewidth": 0,
             "ticks": ""
            },
            "type": "mesh3d"
           }
          ],
          "parcoords": [
           {
            "line": {
             "colorbar": {
              "outlinewidth": 0,
              "ticks": ""
             }
            },
            "type": "parcoords"
           }
          ],
          "pie": [
           {
            "automargin": true,
            "type": "pie"
           }
          ],
          "scatter": [
           {
            "marker": {
             "colorbar": {
              "outlinewidth": 0,
              "ticks": ""
             }
            },
            "type": "scatter"
           }
          ],
          "scatter3d": [
           {
            "line": {
             "colorbar": {
              "outlinewidth": 0,
              "ticks": ""
             }
            },
            "marker": {
             "colorbar": {
              "outlinewidth": 0,
              "ticks": ""
             }
            },
            "type": "scatter3d"
           }
          ],
          "scattercarpet": [
           {
            "marker": {
             "colorbar": {
              "outlinewidth": 0,
              "ticks": ""
             }
            },
            "type": "scattercarpet"
           }
          ],
          "scattergeo": [
           {
            "marker": {
             "colorbar": {
              "outlinewidth": 0,
              "ticks": ""
             }
            },
            "type": "scattergeo"
           }
          ],
          "scattergl": [
           {
            "marker": {
             "colorbar": {
              "outlinewidth": 0,
              "ticks": ""
             }
            },
            "type": "scattergl"
           }
          ],
          "scattermapbox": [
           {
            "marker": {
             "colorbar": {
              "outlinewidth": 0,
              "ticks": ""
             }
            },
            "type": "scattermapbox"
           }
          ],
          "scatterpolar": [
           {
            "marker": {
             "colorbar": {
              "outlinewidth": 0,
              "ticks": ""
             }
            },
            "type": "scatterpolar"
           }
          ],
          "scatterpolargl": [
           {
            "marker": {
             "colorbar": {
              "outlinewidth": 0,
              "ticks": ""
             }
            },
            "type": "scatterpolargl"
           }
          ],
          "scatterternary": [
           {
            "marker": {
             "colorbar": {
              "outlinewidth": 0,
              "ticks": ""
             }
            },
            "type": "scatterternary"
           }
          ],
          "surface": [
           {
            "colorbar": {
             "outlinewidth": 0,
             "ticks": ""
            },
            "colorscale": [
             [
              0,
              "#0d0887"
             ],
             [
              0.1111111111111111,
              "#46039f"
             ],
             [
              0.2222222222222222,
              "#7201a8"
             ],
             [
              0.3333333333333333,
              "#9c179e"
             ],
             [
              0.4444444444444444,
              "#bd3786"
             ],
             [
              0.5555555555555556,
              "#d8576b"
             ],
             [
              0.6666666666666666,
              "#ed7953"
             ],
             [
              0.7777777777777778,
              "#fb9f3a"
             ],
             [
              0.8888888888888888,
              "#fdca26"
             ],
             [
              1,
              "#f0f921"
             ]
            ],
            "type": "surface"
           }
          ],
          "table": [
           {
            "cells": {
             "fill": {
              "color": "#EBF0F8"
             },
             "line": {
              "color": "white"
             }
            },
            "header": {
             "fill": {
              "color": "#C8D4E3"
             },
             "line": {
              "color": "white"
             }
            },
            "type": "table"
           }
          ]
         },
         "layout": {
          "annotationdefaults": {
           "arrowcolor": "#2a3f5f",
           "arrowhead": 0,
           "arrowwidth": 1
          },
          "autotypenumbers": "strict",
          "coloraxis": {
           "colorbar": {
            "outlinewidth": 0,
            "ticks": ""
           }
          },
          "colorscale": {
           "diverging": [
            [
             0,
             "#8e0152"
            ],
            [
             0.1,
             "#c51b7d"
            ],
            [
             0.2,
             "#de77ae"
            ],
            [
             0.3,
             "#f1b6da"
            ],
            [
             0.4,
             "#fde0ef"
            ],
            [
             0.5,
             "#f7f7f7"
            ],
            [
             0.6,
             "#e6f5d0"
            ],
            [
             0.7,
             "#b8e186"
            ],
            [
             0.8,
             "#7fbc41"
            ],
            [
             0.9,
             "#4d9221"
            ],
            [
             1,
             "#276419"
            ]
           ],
           "sequential": [
            [
             0,
             "#0d0887"
            ],
            [
             0.1111111111111111,
             "#46039f"
            ],
            [
             0.2222222222222222,
             "#7201a8"
            ],
            [
             0.3333333333333333,
             "#9c179e"
            ],
            [
             0.4444444444444444,
             "#bd3786"
            ],
            [
             0.5555555555555556,
             "#d8576b"
            ],
            [
             0.6666666666666666,
             "#ed7953"
            ],
            [
             0.7777777777777778,
             "#fb9f3a"
            ],
            [
             0.8888888888888888,
             "#fdca26"
            ],
            [
             1,
             "#f0f921"
            ]
           ],
           "sequentialminus": [
            [
             0,
             "#0d0887"
            ],
            [
             0.1111111111111111,
             "#46039f"
            ],
            [
             0.2222222222222222,
             "#7201a8"
            ],
            [
             0.3333333333333333,
             "#9c179e"
            ],
            [
             0.4444444444444444,
             "#bd3786"
            ],
            [
             0.5555555555555556,
             "#d8576b"
            ],
            [
             0.6666666666666666,
             "#ed7953"
            ],
            [
             0.7777777777777778,
             "#fb9f3a"
            ],
            [
             0.8888888888888888,
             "#fdca26"
            ],
            [
             1,
             "#f0f921"
            ]
           ]
          },
          "colorway": [
           "#636efa",
           "#EF553B",
           "#00cc96",
           "#ab63fa",
           "#FFA15A",
           "#19d3f3",
           "#FF6692",
           "#B6E880",
           "#FF97FF",
           "#FECB52"
          ],
          "font": {
           "color": "#2a3f5f"
          },
          "geo": {
           "bgcolor": "white",
           "lakecolor": "white",
           "landcolor": "#E5ECF6",
           "showlakes": true,
           "showland": true,
           "subunitcolor": "white"
          },
          "hoverlabel": {
           "align": "left"
          },
          "hovermode": "closest",
          "mapbox": {
           "style": "light"
          },
          "paper_bgcolor": "white",
          "plot_bgcolor": "#E5ECF6",
          "polar": {
           "angularaxis": {
            "gridcolor": "white",
            "linecolor": "white",
            "ticks": ""
           },
           "bgcolor": "#E5ECF6",
           "radialaxis": {
            "gridcolor": "white",
            "linecolor": "white",
            "ticks": ""
           }
          },
          "scene": {
           "xaxis": {
            "backgroundcolor": "#E5ECF6",
            "gridcolor": "white",
            "gridwidth": 2,
            "linecolor": "white",
            "showbackground": true,
            "ticks": "",
            "zerolinecolor": "white"
           },
           "yaxis": {
            "backgroundcolor": "#E5ECF6",
            "gridcolor": "white",
            "gridwidth": 2,
            "linecolor": "white",
            "showbackground": true,
            "ticks": "",
            "zerolinecolor": "white"
           },
           "zaxis": {
            "backgroundcolor": "#E5ECF6",
            "gridcolor": "white",
            "gridwidth": 2,
            "linecolor": "white",
            "showbackground": true,
            "ticks": "",
            "zerolinecolor": "white"
           }
          },
          "shapedefaults": {
           "line": {
            "color": "#2a3f5f"
           }
          },
          "ternary": {
           "aaxis": {
            "gridcolor": "white",
            "linecolor": "white",
            "ticks": ""
           },
           "baxis": {
            "gridcolor": "white",
            "linecolor": "white",
            "ticks": ""
           },
           "bgcolor": "#E5ECF6",
           "caxis": {
            "gridcolor": "white",
            "linecolor": "white",
            "ticks": ""
           }
          },
          "title": {
           "x": 0.05
          },
          "xaxis": {
           "automargin": true,
           "gridcolor": "white",
           "linecolor": "white",
           "ticks": "",
           "title": {
            "standoff": 15
           },
           "zerolinecolor": "white",
           "zerolinewidth": 2
          },
          "yaxis": {
           "automargin": true,
           "gridcolor": "white",
           "linecolor": "white",
           "ticks": "",
           "title": {
            "standoff": 15
           },
           "zerolinecolor": "white",
           "zerolinewidth": 2
          }
         }
        },
        "title": {
         "text": "Average Twitter Sentiment by US state: New Batman Movie"
        }
       }
      },
      "image/png": "[encoded data removed]"
     },
     "metadata": {},
     "output_type": "display_data"
    },
    {
     "name": "stdout",
     "output_type": "stream",
     "text": [
      "File temp-plot.html uploaded to images/us_states.html.\n",
      "Columns Merged\n",
      "     country  predictions  no. of tweets\n",
      "0  Australia         0.00              1\n",
      "1     Canada         0.00              1\n",
      "2     France         1.00              1\n",
      "3      India         0.75              4\n",
      "4  Indonesia         0.00              1\n",
      "3\n",
      "['country' 'total_sentiment' 'no. of tweets']\n",
      "           country  total_sentiment  no. of tweets\n",
      "0        Australia             0.00              1\n",
      "1           Canada             0.00              1\n",
      "2           France             1.00              1\n",
      "3            India             0.75              4\n",
      "4        Indonesia             0.00              1\n",
      "5          Ireland             1.00              1\n",
      "6            Japan             1.00              1\n",
      "7            Kenya             1.00              1\n",
      "8         Malaysia             0.00              1\n",
      "9         Maldives             0.00              1\n",
      "10     Philippines            -1.00              1\n",
      "11           Qatar             0.33              3\n",
      "12    Saudi Arabia             0.00              5\n",
      "13           Spain            -1.00              1\n",
      "14  United Kingdom             0.20              5\n",
      "15   United States             0.44             16\n",
      "16          Zambia             1.00              1\n"
     ]
    },
    {
     "data": {
      "application/vnd.plotly.v1+json": {
       "config": {
        "plotlyServerURL": "https://plot.ly"
       },
       "data": [
        {
         "colorbar": {
          "ticks": "outside",
          "ticktext": [
           "Negative",
           "Neutral",
           "Positive"
          ],
          "tickvals": [
           -1,
           0,
           1
          ]
         },
         "colorscale": [
          [
           0,
           "rgb(31,120,180)"
          ],
          [
           0.35,
           "rgb(166, 206, 227)"
          ],
          [
           0.75,
           "rgb(251,154,153)"
          ],
          [
           1,
           "rgb(227,26,28)"
          ]
         ],
         "locationmode": "country names",
         "locations": [
          "Australia",
          "Canada",
          "France",
          "India",
          "Indonesia",
          "Ireland",
          "Japan",
          "Kenya",
          "Malaysia",
          "Maldives",
          "Philippines",
          "Qatar",
          "Saudi Arabia",
          "Spain",
          "United Kingdom",
          "United States",
          "Zambia"
         ],
         "marker": {
          "line": {
           "color": "rgb(255,255,255)",
           "width": 2
          }
         },
         "reversescale": true,
         "text": [
          "Australia Total Texts: ",
          "Canada Total Texts: ",
          "France Total Texts: ",
          "India Total Texts: ",
          "Indonesia Total Texts: ",
          "Ireland Total Texts: ",
          "Japan Total Texts: ",
          "Kenya Total Texts: ",
          "Malaysia Total Texts: ",
          "Maldives Total Texts: ",
          "Philippines Total Texts: ",
          "Qatar Total Texts: ",
          "Saudi Arabia Total Texts: ",
          "Spain Total Texts: ",
          "United Kingdom Total Texts: ",
          "United States Total Texts: ",
          "Zambia Total Texts: "
         ],
         "type": "choropleth",
         "z": [
          0,
          0,
          1,
          0.75,
          0,
          1,
          1,
          1,
          0,
          0,
          -1,
          0.33,
          0,
          -1,
          0.2,
          0.44,
          1
         ]
        }
       ],
       "layout": {
        "autosize": true,
        "geo": {
         "scope": "world"
        },
        "template": {
         "data": {
          "bar": [
           {
            "error_x": {
             "color": "#2a3f5f"
            },
            "error_y": {
             "color": "#2a3f5f"
            },
            "marker": {
             "line": {
              "color": "#E5ECF6",
              "width": 0.5
             },
             "pattern": {
              "fillmode": "overlay",
              "size": 10,
              "solidity": 0.2
             }
            },
            "type": "bar"
           }
          ],
          "barpolar": [
           {
            "marker": {
             "line": {
              "color": "#E5ECF6",
              "width": 0.5
             },
             "pattern": {
              "fillmode": "overlay",
              "size": 10,
              "solidity": 0.2
             }
            },
            "type": "barpolar"
           }
          ],
          "carpet": [
           {
            "aaxis": {
             "endlinecolor": "#2a3f5f",
             "gridcolor": "white",
             "linecolor": "white",
             "minorgridcolor": "white",
             "startlinecolor": "#2a3f5f"
            },
            "baxis": {
             "endlinecolor": "#2a3f5f",
             "gridcolor": "white",
             "linecolor": "white",
             "minorgridcolor": "white",
             "startlinecolor": "#2a3f5f"
            },
            "type": "carpet"
           }
          ],
          "choropleth": [
           {
            "colorbar": {
             "outlinewidth": 0,
             "ticks": ""
            },
            "type": "choropleth"
           }
          ],
          "contour": [
           {
            "colorbar": {
             "outlinewidth": 0,
             "ticks": ""
            },
            "colorscale": [
             [
              0,
              "#0d0887"
             ],
             [
              0.1111111111111111,
              "#46039f"
             ],
             [
              0.2222222222222222,
              "#7201a8"
             ],
             [
              0.3333333333333333,
              "#9c179e"
             ],
             [
              0.4444444444444444,
              "#bd3786"
             ],
             [
              0.5555555555555556,
              "#d8576b"
             ],
             [
              0.6666666666666666,
              "#ed7953"
             ],
             [
              0.7777777777777778,
              "#fb9f3a"
             ],
             [
              0.8888888888888888,
              "#fdca26"
             ],
             [
              1,
              "#f0f921"
             ]
            ],
            "type": "contour"
           }
          ],
          "contourcarpet": [
           {
            "colorbar": {
             "outlinewidth": 0,
             "ticks": ""
            },
            "type": "contourcarpet"
           }
          ],
          "heatmap": [
           {
            "colorbar": {
             "outlinewidth": 0,
             "ticks": ""
            },
            "colorscale": [
             [
              0,
              "#0d0887"
             ],
             [
              0.1111111111111111,
              "#46039f"
             ],
             [
              0.2222222222222222,
              "#7201a8"
             ],
             [
              0.3333333333333333,
              "#9c179e"
             ],
             [
              0.4444444444444444,
              "#bd3786"
             ],
             [
              0.5555555555555556,
              "#d8576b"
             ],
             [
              0.6666666666666666,
              "#ed7953"
             ],
             [
              0.7777777777777778,
              "#fb9f3a"
             ],
             [
              0.8888888888888888,
              "#fdca26"
             ],
             [
              1,
              "#f0f921"
             ]
            ],
            "type": "heatmap"
           }
          ],
          "heatmapgl": [
           {
            "colorbar": {
             "outlinewidth": 0,
             "ticks": ""
            },
            "colorscale": [
             [
              0,
              "#0d0887"
             ],
             [
              0.1111111111111111,
              "#46039f"
             ],
             [
              0.2222222222222222,
              "#7201a8"
             ],
             [
              0.3333333333333333,
              "#9c179e"
             ],
             [
              0.4444444444444444,
              "#bd3786"
             ],
             [
              0.5555555555555556,
              "#d8576b"
             ],
             [
              0.6666666666666666,
              "#ed7953"
             ],
             [
              0.7777777777777778,
              "#fb9f3a"
             ],
             [
              0.8888888888888888,
              "#fdca26"
             ],
             [
              1,
              "#f0f921"
             ]
            ],
            "type": "heatmapgl"
           }
          ],
          "histogram": [
           {
            "marker": {
             "pattern": {
              "fillmode": "overlay",
              "size": 10,
              "solidity": 0.2
             }
            },
            "type": "histogram"
           }
          ],
          "histogram2d": [
           {
            "colorbar": {
             "outlinewidth": 0,
             "ticks": ""
            },
            "colorscale": [
             [
              0,
              "#0d0887"
             ],
             [
              0.1111111111111111,
              "#46039f"
             ],
             [
              0.2222222222222222,
              "#7201a8"
             ],
             [
              0.3333333333333333,
              "#9c179e"
             ],
             [
              0.4444444444444444,
              "#bd3786"
             ],
             [
              0.5555555555555556,
              "#d8576b"
             ],
             [
              0.6666666666666666,
              "#ed7953"
             ],
             [
              0.7777777777777778,
              "#fb9f3a"
             ],
             [
              0.8888888888888888,
              "#fdca26"
             ],
             [
              1,
              "#f0f921"
             ]
            ],
            "type": "histogram2d"
           }
          ],
          "histogram2dcontour": [
           {
            "colorbar": {
             "outlinewidth": 0,
             "ticks": ""
            },
            "colorscale": [
             [
              0,
              "#0d0887"
             ],
             [
              0.1111111111111111,
              "#46039f"
             ],
             [
              0.2222222222222222,
              "#7201a8"
             ],
             [
              0.3333333333333333,
              "#9c179e"
             ],
             [
              0.4444444444444444,
              "#bd3786"
             ],
             [
              0.5555555555555556,
              "#d8576b"
             ],
             [
              0.6666666666666666,
              "#ed7953"
             ],
             [
              0.7777777777777778,
              "#fb9f3a"
             ],
             [
              0.8888888888888888,
              "#fdca26"
             ],
             [
              1,
              "#f0f921"
             ]
            ],
            "type": "histogram2dcontour"
           }
          ],
          "mesh3d": [
           {
            "colorbar": {
             "outlinewidth": 0,
             "ticks": ""
            },
            "type": "mesh3d"
           }
          ],
          "parcoords": [
           {
            "line": {
             "colorbar": {
              "outlinewidth": 0,
              "ticks": ""
             }
            },
            "type": "parcoords"
           }
          ],
          "pie": [
           {
            "automargin": true,
            "type": "pie"
           }
          ],
          "scatter": [
           {
            "marker": {
             "colorbar": {
              "outlinewidth": 0,
              "ticks": ""
             }
            },
            "type": "scatter"
           }
          ],
          "scatter3d": [
           {
            "line": {
             "colorbar": {
              "outlinewidth": 0,
              "ticks": ""
             }
            },
            "marker": {
             "colorbar": {
              "outlinewidth": 0,
              "ticks": ""
             }
            },
            "type": "scatter3d"
           }
          ],
          "scattercarpet": [
           {
            "marker": {
             "colorbar": {
              "outlinewidth": 0,
              "ticks": ""
             }
            },
            "type": "scattercarpet"
           }
          ],
          "scattergeo": [
           {
            "marker": {
             "colorbar": {
              "outlinewidth": 0,
              "ticks": ""
             }
            },
            "type": "scattergeo"
           }
          ],
          "scattergl": [
           {
            "marker": {
             "colorbar": {
              "outlinewidth": 0,
              "ticks": ""
             }
            },
            "type": "scattergl"
           }
          ],
          "scattermapbox": [
           {
            "marker": {
             "colorbar": {
              "outlinewidth": 0,
              "ticks": ""
             }
            },
            "type": "scattermapbox"
           }
          ],
          "scatterpolar": [
           {
            "marker": {
             "colorbar": {
              "outlinewidth": 0,
              "ticks": ""
             }
            },
            "type": "scatterpolar"
           }
          ],
          "scatterpolargl": [
           {
            "marker": {
             "colorbar": {
              "outlinewidth": 0,
              "ticks": ""
             }
            },
            "type": "scatterpolargl"
           }
          ],
          "scatterternary": [
           {
            "marker": {
             "colorbar": {
              "outlinewidth": 0,
              "ticks": ""
             }
            },
            "type": "scatterternary"
           }
          ],
          "surface": [
           {
            "colorbar": {
             "outlinewidth": 0,
             "ticks": ""
            },
            "colorscale": [
             [
              0,
              "#0d0887"
             ],
             [
              0.1111111111111111,
              "#46039f"
             ],
             [
              0.2222222222222222,
              "#7201a8"
             ],
             [
              0.3333333333333333,
              "#9c179e"
             ],
             [
              0.4444444444444444,
              "#bd3786"
             ],
             [
              0.5555555555555556,
              "#d8576b"
             ],
             [
              0.6666666666666666,
              "#ed7953"
             ],
             [
              0.7777777777777778,
              "#fb9f3a"
             ],
             [
              0.8888888888888888,
              "#fdca26"
             ],
             [
              1,
              "#f0f921"
             ]
            ],
            "type": "surface"
           }
          ],
          "table": [
           {
            "cells": {
             "fill": {
              "color": "#EBF0F8"
             },
             "line": {
              "color": "white"
             }
            },
            "header": {
             "fill": {
              "color": "#C8D4E3"
             },
             "line": {
              "color": "white"
             }
            },
            "type": "table"
           }
          ]
         },
         "layout": {
          "annotationdefaults": {
           "arrowcolor": "#2a3f5f",
           "arrowhead": 0,
           "arrowwidth": 1
          },
          "autotypenumbers": "strict",
          "coloraxis": {
           "colorbar": {
            "outlinewidth": 0,
            "ticks": ""
           }
          },
          "colorscale": {
           "diverging": [
            [
             0,
             "#8e0152"
            ],
            [
             0.1,
             "#c51b7d"
            ],
            [
             0.2,
             "#de77ae"
            ],
            [
             0.3,
             "#f1b6da"
            ],
            [
             0.4,
             "#fde0ef"
            ],
            [
             0.5,
             "#f7f7f7"
            ],
            [
             0.6,
             "#e6f5d0"
            ],
            [
             0.7,
             "#b8e186"
            ],
            [
             0.8,
             "#7fbc41"
            ],
            [
             0.9,
             "#4d9221"
            ],
            [
             1,
             "#276419"
            ]
           ],
           "sequential": [
            [
             0,
             "#0d0887"
            ],
            [
             0.1111111111111111,
             "#46039f"
            ],
            [
             0.2222222222222222,
             "#7201a8"
            ],
            [
             0.3333333333333333,
             "#9c179e"
            ],
            [
             0.4444444444444444,
             "#bd3786"
            ],
            [
             0.5555555555555556,
             "#d8576b"
            ],
            [
             0.6666666666666666,
             "#ed7953"
            ],
            [
             0.7777777777777778,
             "#fb9f3a"
            ],
            [
             0.8888888888888888,
             "#fdca26"
            ],
            [
             1,
             "#f0f921"
            ]
           ],
           "sequentialminus": [
            [
             0,
             "#0d0887"
            ],
            [
             0.1111111111111111,
             "#46039f"
            ],
            [
             0.2222222222222222,
             "#7201a8"
            ],
            [
             0.3333333333333333,
             "#9c179e"
            ],
            [
             0.4444444444444444,
             "#bd3786"
            ],
            [
             0.5555555555555556,
             "#d8576b"
            ],
            [
             0.6666666666666666,
             "#ed7953"
            ],
            [
             0.7777777777777778,
             "#fb9f3a"
            ],
            [
             0.8888888888888888,
             "#fdca26"
            ],
            [
             1,
             "#f0f921"
            ]
           ]
          },
          "colorway": [
           "#636efa",
           "#EF553B",
           "#00cc96",
           "#ab63fa",
           "#FFA15A",
           "#19d3f3",
           "#FF6692",
           "#B6E880",
           "#FF97FF",
           "#FECB52"
          ],
          "font": {
           "color": "#2a3f5f"
          },
          "geo": {
           "bgcolor": "white",
           "lakecolor": "white",
           "landcolor": "#E5ECF6",
           "showlakes": true,
           "showland": true,
           "subunitcolor": "white"
          },
          "hoverlabel": {
           "align": "left"
          },
          "hovermode": "closest",
          "mapbox": {
           "style": "light"
          },
          "paper_bgcolor": "white",
          "plot_bgcolor": "#E5ECF6",
          "polar": {
           "angularaxis": {
            "gridcolor": "white",
            "linecolor": "white",
            "ticks": ""
           },
           "bgcolor": "#E5ECF6",
           "radialaxis": {
            "gridcolor": "white",
            "linecolor": "white",
            "ticks": ""
           }
          },
          "scene": {
           "xaxis": {
            "backgroundcolor": "#E5ECF6",
            "gridcolor": "white",
            "gridwidth": 2,
            "linecolor": "white",
            "showbackground": true,
            "ticks": "",
            "zerolinecolor": "white"
           },
           "yaxis": {
            "backgroundcolor": "#E5ECF6",
            "gridcolor": "white",
            "gridwidth": 2,
            "linecolor": "white",
            "showbackground": true,
            "ticks": "",
            "zerolinecolor": "white"
           },
           "zaxis": {
            "backgroundcolor": "#E5ECF6",
            "gridcolor": "white",
            "gridwidth": 2,
            "linecolor": "white",
            "showbackground": true,
            "ticks": "",
            "zerolinecolor": "white"
           }
          },
          "shapedefaults": {
           "line": {
            "color": "#2a3f5f"
           }
          },
          "ternary": {
           "aaxis": {
            "gridcolor": "white",
            "linecolor": "white",
            "ticks": ""
           },
           "baxis": {
            "gridcolor": "white",
            "linecolor": "white",
            "ticks": ""
           },
           "bgcolor": "#E5ECF6",
           "caxis": {
            "gridcolor": "white",
            "linecolor": "white",
            "ticks": ""
           }
          },
          "title": {
           "x": 0.05
          },
          "xaxis": {
           "automargin": true,
           "gridcolor": "white",
           "linecolor": "white",
           "ticks": "",
           "title": {
            "standoff": 15
           },
           "zerolinecolor": "white",
           "zerolinewidth": 2
          },
          "yaxis": {
           "automargin": true,
           "gridcolor": "white",
           "linecolor": "white",
           "ticks": "",
           "title": {
            "standoff": 15
           },
           "zerolinecolor": "white",
           "zerolinewidth": 2
          }
         }
        },
        "title": {
         "text": "Average Twitter Sentiment per Country: New Batman Movie"
        }
       }
      },
      "image/png": "[encoded data removed]"
     },
     "metadata": {},
     "output_type": "display_data"
    },
    {
     "name": "stdout",
     "output_type": "stream",
     "text": [
      "File temp-plot.html uploaded to images/world.html.\n"
     ]
    },
    {
     "data": {
      "text/plain": [
       "<Figure size 432x288 with 0 Axes>"
      ]
     },
     "metadata": {},
     "output_type": "display_data"
    }
   ],
   "source": [
    "#if __name__ == \"__main__\":\n",
    "\n",
    "# Create Spark session\n",
    "spark = SparkSession.builder.appName(\"TwitterSentimentAnalysis\").getOrCreate()\n",
    "\n",
    "# Start batch processing\n",
    "tweets = start_batch_processing(spark)\n",
    "\n",
    "# Visualize results\n",
    "visualize_results_from_batch(tweets)"
   ]
  },
  {
   "cell_type": "code",
   "execution_count": 543,
   "id": "3d101526",
   "metadata": {},
   "outputs": [],
   "source": [
    "# print(tweets.count())\n",
    "# tweets.createOrReplaceTempView(\"MyTable\")"
   ]
  },
  {
   "cell_type": "code",
   "execution_count": 544,
   "id": "1ca54093",
   "metadata": {},
   "outputs": [],
   "source": [
    "# df = spark.sql('SELECT count(id) FROM MyTable WHERE analysis = \"Positive\"')\n",
    "# df.show(5)"
   ]
  },
  {
   "cell_type": "code",
   "execution_count": 545,
   "id": "8c816cc4",
   "metadata": {},
   "outputs": [],
   "source": [
    "# df = spark.sql('SELECT count(id) FROM MyTable WHERE analysis = \"Negative\"')\n",
    "# df.show(5)"
   ]
  },
  {
   "cell_type": "code",
   "execution_count": 546,
   "id": "c441f754",
   "metadata": {},
   "outputs": [],
   "source": [
    "# df = spark.sql('SELECT count(id) FROM MyTable WHERE analysis = \"Neutral\"')\n",
    "# df.show(5)"
   ]
  },
  {
   "cell_type": "code",
   "execution_count": 547,
   "id": "da0509f9",
   "metadata": {},
   "outputs": [],
   "source": [
    "spark.stop()"
   ]
  },
  {
   "cell_type": "code",
   "execution_count": null,
   "id": "58085f70",
   "metadata": {},
   "outputs": [],
   "source": []
  }
 ],
 "metadata": {
  "kernelspec": {
   "display_name": "Python 3",
   "language": "python",
   "name": "python3"
  },
  "language_info": {
   "codemirror_mode": {
    "name": "ipython",
    "version": 3
   },
   "file_extension": ".py",
   "mimetype": "text/x-python",
   "name": "python",
   "nbconvert_exporter": "python",
   "pygments_lexer": "ipython3",
   "version": "3.8.12"
  }
 },
 "nbformat": 4,
 "nbformat_minor": 5
}