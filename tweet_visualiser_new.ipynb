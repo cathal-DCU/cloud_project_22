{
 "cells": [
  {
   "cell_type": "code",
   "execution_count": 670,
   "id": "632a39fb",
   "metadata": {},
   "outputs": [],
   "source": [
    "%%capture\n",
    "# https://github.com/noahberhe/Lobbyists4America/blob/master/Lobbyists4America.ipynb\n",
    "\n",
    "!pip install textblob\n",
    "!pip install findspark\n",
    "!pip install nltk\n",
    "!pip install wordcloud\n",
    "!pip install geopy\n",
    "!pip install folium\n",
    "#!pip install plotly\n",
    "!pip install chart_studio\n",
    "!pip install plotly jupyterlab\n",
    "!pip install \"plotly>=5\" \"ipywidgets>=7.6\"\n",
    "!pip install chart_studio\n",
    "# !pip install plotly jupyterlab\n",
    "#!jupyter labextension install @jupyterlab/plotly-extension\n",
    "!jupyter labextension install plotlywidget\n",
    "#!pip install -U nltk\n",
    "#!python -m nltk.downloader popular -d 'gs://cloud-project-bucket-1981/stopwords'"
   ]
  },
  {
   "cell_type": "code",
   "execution_count": 671,
   "id": "6bea3e6b",
   "metadata": {},
   "outputs": [
    {
     "name": "stdout",
     "output_type": "stream",
     "text": [
      "JupyterLab v0.35.0\n",
      "Known labextensions:\n",
      "   app dir: /opt/conda/miniconda3/share/jupyter/lab\n",
      "        @jupyterlab/plotly-extension v1.0.0 \u001b[32m enabled \u001b[0m \u001b[32mOK\u001b[0m\n",
      "        jupyterlab-dash v0.4.1 \u001b[32m enabled \u001b[0m \u001b[31m X\u001b[0m\n",
      "        nbdime-jupyterlab v2.1.1 \u001b[32m enabled \u001b[0m \u001b[31m X\u001b[0m\n",
      "        plotlywidget v4.14.3 \u001b[32m enabled \u001b[0m \u001b[32mOK\u001b[0m\n",
      "\n",
      "\"jupyterlab-dash@0.4.1\" is not compatible with the current JupyterLab\n",
      "Conflicting Dependencies:\n",
      "JupyterLab              Extension        Package\n",
      ">=0.19.1 <0.20.0        >=2.0.0 <3.0.0||>=3.0.0 <4.0.0@jupyterlab/application\n",
      ">=0.19.1 <0.20.0        >=2.0.0 <3.0.0||>=3.0.0 <4.0.0@jupyterlab/notebook\n",
      ">=0.19.1 <0.20.0        >=2.0.0 <3.0.0||>=3.0.0 <4.0.0@jupyterlab/console\n",
      "\n",
      "\n",
      "\n",
      "\"nbdime-jupyterlab@2.1.1\" is not compatible with the current JupyterLab\n",
      "Conflicting Dependencies:\n",
      "JupyterLab             Extension        Package\n",
      ">=0.19.1 <0.20.0       >=2.0.0 <3.0.0||>=3.0.0 <4.0.0@jupyterlab/apputils\n",
      ">=2.2.1 <3.0.0         >=4.0.0 <5.0.0||>=5.0.0 <6.0.0@jupyterlab/coreutils\n",
      ">=0.19.1 <0.20.0       >=2.0.0 <3.0.0||>=3.0.0 <4.0.0@jupyterlab/notebook\n",
      ">=0.19.1 <0.20.0       >=2.0.0 <3.0.0||>=3.0.0 <4.0.0@jupyterlab/rendermime\n",
      ">=3.2.1 <4.0.0         >=5.0.0 <6.0.0||>=6.0.0 <7.0.0@jupyterlab/services\n",
      "\n",
      "\n"
     ]
    }
   ],
   "source": [
    "# %%capture\n",
    "!jupyter labextension list"
   ]
  },
  {
   "cell_type": "code",
   "execution_count": 672,
   "id": "ea949ede",
   "metadata": {},
   "outputs": [],
   "source": [
    "%%capture\n",
    "!pip install jupyterlab_dash"
   ]
  },
  {
   "cell_type": "code",
   "execution_count": 673,
   "id": "e406d92e",
   "metadata": {},
   "outputs": [
    {
     "name": "stdout",
     "output_type": "stream",
     "text": [
      "Please supply at least one subcommand: disable, enable, list\n",
      "Enabling: jupyter_server_proxy\n",
      "- Writing config: /root/.jupyter\n",
      "    - Validating...\n",
      "      jupyter_server_proxy  \u001b[32mOK\u001b[0m\n"
     ]
    }
   ],
   "source": [
    "# %%capture\n",
    "!jupyter serverextension install jupyter_server_proxy\n",
    "!jupyter serverextension enable jupyter_server_proxy"
   ]
  },
  {
   "cell_type": "code",
   "execution_count": 674,
   "id": "ef74a903",
   "metadata": {},
   "outputs": [],
   "source": [
    "%%capture\n",
    "# import necessary packages\n",
    "import os\n",
    "import json\n",
    "import time\n",
    "import subprocess\n",
    "import pyspark\n",
    "import findspark\n",
    "from pyspark.sql import SparkSession\n",
    "from pyspark.sql.functions import *\n",
    "from pyspark.sql.types import *\n",
    "from pyspark.sql import functions as F\n",
    "from textblob import TextBlob\n",
    "# https://stackoverflow.com/questions/36969991/folium-map-not-displaying\n",
    "import webbrowser\n",
    "import io\n",
    "import nltk\n",
    "from nltk.corpus import stopwords\n",
    "nltk.download('stopwords')\n",
    "\"\"\"\n",
    "#nltk.download('stopwords',download_dir='gs://cloud-project-bucket-1981/stopwords')\n",
    "#nltk.data.path.append('gs://cloud-project-bucket-1981/stopwords')\n",
    "\"\"\"\n",
    "# from nltk.corpus import stopwords\n",
    "# nltk.data.path.append('gs://cloud-project-bucket-1981/stopwords')\n",
    "# nltk.download('stopwords',download_dir='gs://cloud-project-bucket-1981/stopwords')\n",
    "\n",
    "\"\"\"\n",
    "# Data is downloaded to /root/nltk_data/corpora/stopwords.zip\n",
    "from zipfile import ZipFile\n",
    "# OSError: No such file or directory: '/root/nltk_data/corpora/stopwords/english'\n",
    "file_loc = '/root/nltk_data/corpora/stopwords.zip'\n",
    "with ZipFile(file_loc, 'r') as z:\n",
    "    z.extractall('/root/nltk_data/corpora/')\n",
    "\"\"\"    \n",
    "\n",
    "#import libraries to visualize the results from stream\n",
    "import time\n",
    "from IPython import display\n",
    "from IPython.display import IFrame\n",
    "from IPython.display import clear_output\n",
    "import plotly\n",
    "# import plotly.plotly as py\n",
    "import chart_studio.plotly as py\n",
    "import plotly.graph_objs as go \n",
    "from plotly.offline import download_plotlyjs, init_notebook_mode, plot, iplot, plot_mpl\n",
    "import plotly.io as pio\n",
    "init_notebook_mode()\n",
    "import matplotlib.pyplot as plt\n",
    "import seaborn as sns\n",
    "import pandas as pd\n",
    "from PIL import Image\n",
    "from wordcloud import WordCloud, STOPWORDS, ImageColorGenerator\n",
    "from collections import Counter\n",
    "from google.cloud import storage\n",
    "import ast\n",
    "import numpy as np\n",
    "from geopy.geocoders import Nominatim\n",
    "from geopy.extra.rate_limiter import RateLimiter\n",
    "from geopy.exc import GeocoderTimedOut\n",
    "import folium\n",
    "from folium import plugins\n",
    "from folium.plugins import MarkerCluster, FastMarkerCluster, HeatMapWithTime\n",
    "%matplotlib inline"
   ]
  },
  {
   "cell_type": "code",
   "execution_count": 675,
   "id": "88959b09",
   "metadata": {},
   "outputs": [],
   "source": [
    "# from IPython.core.display import HTML\n",
    "from IPython.display import display, HTML"
   ]
  },
  {
   "cell_type": "code",
   "execution_count": 676,
   "id": "d5ed5002",
   "metadata": {},
   "outputs": [],
   "source": [
    "findspark.init()"
   ]
  },
  {
   "cell_type": "code",
   "execution_count": 677,
   "id": "22b7e1dc",
   "metadata": {},
   "outputs": [],
   "source": [
    "def json_load(text):\n",
    "    return json.loads(text)"
   ]
  },
  {
   "cell_type": "code",
   "execution_count": 678,
   "id": "89435e9c",
   "metadata": {},
   "outputs": [],
   "source": [
    "def get_message(text):\n",
    "    msg = json.loads(text)\n",
    "    # if tweet is longer than 140 characters\n",
    "    if \"extended_tweet\" in msg:\n",
    "        return str(msg['extended_tweet']['full_text'])\n",
    "    else:\n",
    "        return str(msg['text'])"
   ]
  },
  {
   "cell_type": "code",
   "execution_count": 679,
   "id": "28f10dfc",
   "metadata": {},
   "outputs": [],
   "source": [
    "def get_tweet_field(text, field):\n",
    "    msg = json.loads(text)\n",
    "    if '/' in field:\n",
    "        fields = field.split('/')\n",
    "        fieldDepth = len(fields)\n",
    "        f = msg\n",
    "        for i in range(fieldDepth):\n",
    "            if(f is None):\n",
    "                return None\n",
    "            if i == fieldDepth - 1:\n",
    "                return str(f[fields[i]]) \n",
    "            else:\n",
    "                f = f[fields[i]]\n",
    "    else:\n",
    "        return str(msg[field])"
   ]
  },
  {
   "cell_type": "code",
   "execution_count": 680,
   "id": "0e209f49",
   "metadata": {},
   "outputs": [],
   "source": [
    "def get_analysis(score):\n",
    "    if score < 0:\n",
    "        return 'Negative'\n",
    "    elif score == 0:\n",
    "        return 'Neutral'\n",
    "    else:\n",
    "        return 'Positive'"
   ]
  },
  {
   "cell_type": "code",
   "execution_count": 681,
   "id": "f63f3d71",
   "metadata": {},
   "outputs": [],
   "source": [
    "def remove_stopwords(x):    \n",
    "    # import nltk\n",
    "    # nltk.download('stopwords')\n",
    "    # data = nltk.corpus.comtrans.aligned_sents('alignment-en-fr.txt')\n",
    "    # nltk.data.path.append('gs://cloud-project-bucket-1981/stopwords')\n",
    "    sw = nltk.corpus.stopwords.words(\"english\")\n",
    "    string = ''\n",
    "    for x in x.split(' '):\n",
    "        if x.lower() not in sw:\n",
    "            string += x + ' '\n",
    "        else:\n",
    "            pass\n",
    "    return string\n"
   ]
  },
  {
   "cell_type": "code",
   "execution_count": 682,
   "id": "9336d8a3",
   "metadata": {},
   "outputs": [],
   "source": [
    "def process_tweets(tweets):\n",
    "    #import nltk\n",
    "    #nltk.download('stopwords')\n",
    "    # Convert to json\n",
    "    json_load_udf = udf(json_load, StringType())\n",
    "    tweets = tweets.withColumn(\"json\", json_load_udf(\"value\"))\n",
    "    \n",
    "    # Get id\n",
    "    get_tweet_field_udf = udf(get_tweet_field, StringType())\n",
    "    tweets = tweets.withColumn(\"id\", get_tweet_field_udf(\"value\", lit('id')))\n",
    "    \n",
    "    # Get created_at\n",
    "    get_tweet_field_udf = udf(get_tweet_field, StringType())\n",
    "    tweets = tweets.withColumn(\"created_at\", get_tweet_field_udf(\"value\", lit('created_at')))\n",
    "    \n",
    "    # Get place full name\n",
    "    get_tweet_field_udf = udf(get_tweet_field, StringType())\n",
    "    tweets = tweets.withColumn(\"place_full_name\", get_tweet_field_udf(\"value\", lit('place/full_name')))\n",
    "    \n",
    "    # Get place country\n",
    "    get_tweet_field_udf = udf(get_tweet_field, StringType())\n",
    "    tweets = tweets.withColumn(\"place_country\", get_tweet_field_udf(\"value\", lit('place/country')))\n",
    "    \n",
    "    # Get place country code\n",
    "    get_tweet_field_udf = udf(get_tweet_field, StringType())\n",
    "    tweets = tweets.withColumn(\"place_country_code\", get_tweet_field_udf(\"value\", lit('place/country_code')))\n",
    "    \n",
    "    # Get place co-ordinates\n",
    "    get_tweet_field_udf = udf(get_tweet_field, StringType())\n",
    "    tweets = tweets.withColumn(\"place_coordinates\", get_tweet_field_udf(\"value\", lit('coordinates')))\n",
    "    \n",
    "    # Get place bounding_box co-ordinates\n",
    "    get_tweet_field_udf = udf(get_tweet_field, StringType())\n",
    "    tweets = tweets.withColumn(\"bounding_box_coordinates\", get_tweet_field_udf(\"value\", lit('place/bounding_box/coordinates')))\n",
    "    \n",
    "    # Get place type\n",
    "    get_tweet_field_udf = udf(get_tweet_field, StringType())\n",
    "    tweets = tweets.withColumn(\"place_type\", get_tweet_field_udf(\"value\", lit('place/place_type')))\n",
    "    \n",
    "    # Get message\n",
    "    get_message_udf = udf(get_message, StringType())\n",
    "    tweets = tweets.withColumn(\"message\", get_message_udf(\"value\"))\n",
    "    \n",
    "    # Get cleaned words from message for analysis\n",
    "    #tweets = tweets.na.replace('', None)\n",
    "    #tweets = tweets.na.drop()\n",
    "    tweets = tweets.withColumn('words', tweets.message)\n",
    "    tweets = tweets.withColumn('words', F.regexp_replace('words', r'http\\S+', ' '))\n",
    "    tweets = tweets.withColumn('words', F.regexp_replace('words', '@\\w+', ' '))\n",
    "    tweets = tweets.withColumn('words', F.regexp_replace('words', '#', ' '))\n",
    "    tweets = tweets.withColumn('words', F.regexp_replace('words', 'RT', ''))\n",
    "    tweets = tweets.withColumn('words', F.regexp_replace('words', ':', ' '))\n",
    "    # tweets = tweets.withColumn('words', F.regexp_replace('words', '.', ' '))\n",
    "    # print(tweets.schema['words'].dataType)\n",
    "   \n",
    "    # my_udf = udf(lambda x: remove_stopwords(x), StringType())\n",
    "    # tweets = tweets.withColumn('words',my_udf(tweets.words))\n",
    "\n",
    "    # Drop unnesscessary data\n",
    "    tweets = tweets.drop(\"value\")\n",
    "    tweets = tweets.drop(\"json\")\n",
    "    \n",
    "    return tweets"
   ]
  },
  {
   "cell_type": "code",
   "execution_count": 683,
   "id": "c1c87cb8",
   "metadata": {},
   "outputs": [],
   "source": [
    "# Text classification using TextBlob\n",
    "def polarity_detection(text):\n",
    "    return TextBlob(text).sentiment.polarity\n",
    "def subjectivity_detection(text):\n",
    "    return TextBlob(text).sentiment.subjectivity\n",
    "def text_classification(tweets):\n",
    "    \n",
    "    # polarity detection\n",
    "    polarity_detection_udf = udf(polarity_detection, StringType())\n",
    "    tweets = tweets.withColumn(\"polarity\", polarity_detection_udf(\"words\"))\n",
    "    \n",
    "    # subjectivity detection\n",
    "    subjectivity_detection_udf = udf(subjectivity_detection, StringType())\n",
    "    tweets = tweets.withColumn(\"subjectivity\", subjectivity_detection_udf(\"words\"))\n",
    "    \n",
    "    # analysis\n",
    "    get_analysis_udf = udf(get_analysis, StringType())\n",
    "    tweets = tweets.withColumn('analysis', get_analysis_udf('polarity'))\n",
    "    \n",
    "    return tweets"
   ]
  },
  {
   "cell_type": "code",
   "execution_count": 684,
   "id": "97c87a32",
   "metadata": {},
   "outputs": [],
   "source": [
    "%%capture\n",
    "\"\"\"\n",
    "def flat_list(column):\n",
    "    corpus = []\n",
    "    for row in column:\n",
    "        for w in row.split(' '):\n",
    "            corpus.append(w)\n",
    "    return corpus\n",
    "\n",
    "def corpus_creator(text_col):\n",
    "    corpus = text_col.rdd \\\n",
    "                    .flatMap(flat_list) \\\n",
    "                    .map(lambda x: (x, 1)) \\\n",
    "                    .reduceByKey(lambda x, y: x+y ) \\\n",
    "                    .sortBy(lambda x: x[1], ascending=False) \\\n",
    "                    .toDF() \\\n",
    "                    .withColumnRenamed('_1','text') \\\n",
    "                    .withColumnRenamed('_2','count')\n",
    "    return corpus\n",
    "\n",
    "def annual_tweets(year, tweets):\n",
    "    annual_tweets = tweets.select('words') \\\n",
    "                        .filter('YEAR(FROM_UNIXTIME(created_at))=={}'.format(year)) \\\n",
    "                        .withColumnRenamed('words','text')\n",
    "    # print(annual_tweets.head(3))\n",
    "    return annual_tweets\n",
    "\n",
    "def wordcloud(corpus_sdf):\n",
    "    corpus_pdf = corpus_sdf.limit(500).toPandas()\n",
    "\n",
    "    corpus_dict = {}\n",
    "    for index, row in corpus_pdf.iterrows():\n",
    "        corpus_dict[row['text']] = row['count']\n",
    "        \n",
    "    wordcloud = WordCloud().generate_from_frequencies(corpus_dict)\n",
    "    plt.imshow(wordcloud);\n",
    "\n",
    "def annualcorpora(tweets):\n",
    "    years_list = [2022]\n",
    "    print(tweets[\"id\"].head(3))\n",
    "    annual_corpora = {}\n",
    "    for year in years_list:\n",
    "        annual_corpora[str(year)] = corpus_creator(annual_tweets(year, tweets))\n",
    "\n",
    "    for key,value in annual_corpora.items():\n",
    "        fig, ax = plt.subplots()\n",
    "        ax = wordcloud(value)\n",
    "        fig.suptitle('{} wordcloud'.format(key))\n",
    "\"\"\""
   ]
  },
  {
   "cell_type": "code",
   "execution_count": 685,
   "id": "12bae731",
   "metadata": {},
   "outputs": [],
   "source": [
    "def wordcloud_creator(tweets):\n",
    "    # https://www.analyticsvidhya.com/blog/2021/08/creating-customized-word-cloud-in-python/\n",
    "    # Create stopword\n",
    "    stopwords = set(STOPWORDS)\n",
    "    text = \" \".join(review for review in tweets.words.astype(str))\n",
    "    wordcloud = WordCloud(max_font_size=50, max_words=150, background_color=\"black\", stopwords = STOPWORDS).generate(text)\n",
    "    #Display the image\n",
    "    plt.imshow(wordcloud, interpolation=\"bilinear\")\n",
    "    # plt.figure()\n",
    "    plt.axis(\"off\")\n",
    "    plt.clf()\n",
    "    \n"
   ]
  },
  {
   "cell_type": "code",
   "execution_count": 686,
   "id": "dbeac160",
   "metadata": {},
   "outputs": [],
   "source": [
    "# https://github.com/RonKG/Machine-Learning-Projects-2/blob/master/3.%20NLP_twitter_sentiment_analysis/FINAL____twitter_sentiment_twitter.ipynb\n",
    "# get a word count per sentence column\n",
    "def word_count(sentence):\n",
    "    return len(sentence.split())\n",
    "\n",
    "\n",
    "def data_details(data):\n",
    "    # print(data.head(2))\n",
    "    # check the number of positive vs. negative tagged sentences\n",
    "    positives = data['analysis'][data.analysis == \"Positive\"]\n",
    "    negatives = data['analysis'][data.analysis == \"Negative\"]\n",
    "\n",
    "    print('number of positve tagged sentences is:  {}'.format(len(positives)))\n",
    "    print('number of negative tagged sentences is: {}'.format(len(negatives)))\n",
    "    print('total length of the data is:            {}'.format(data.shape[0]))\n",
    "    data['word count'] = data['words'].apply(word_count)\n",
    "    # plot word count distribution for both positive and negative sentiments\n",
    "    x = data['word count'][data.analysis == \"Positive\"]\n",
    "    y = data['word count'][data.analysis == \"Negative\"]\n",
    "    plt.figure(figsize=(12,6))\n",
    "    plt.xlim(0,45)\n",
    "    plt.xlabel('word count')\n",
    "    plt.ylabel('frequency')\n",
    "    g = plt.hist([x, y], color=['r','b'], alpha=0.5, label=['positive','negative'])\n",
    "    plt.legend(loc='upper right')\n",
    "    plt.clf()\n",
    "    "
   ]
  },
  {
   "cell_type": "code",
   "execution_count": 687,
   "id": "0574dc10",
   "metadata": {},
   "outputs": [],
   "source": [
    "def common_words(data):\n",
    "    # get most common words in training dataset\n",
    "    all_words = []\n",
    "    for line in list(data['words']):\n",
    "        words = line.split()\n",
    "        for word in words:\n",
    "            all_words.append(word.lower())\n",
    "    return all_words\n",
    "   \n",
    "    print(Counter(all_words).most_common(10))"
   ]
  },
  {
   "cell_type": "code",
   "execution_count": 688,
   "id": "88ede675",
   "metadata": {},
   "outputs": [],
   "source": [
    "def word_freq_plot(data):\n",
    "    # plot word frequency distribution of first few words\n",
    "    all_words=common_words(data)\n",
    "    plt.figure(figsize=(12,5))\n",
    "    plt.title('Top 25 most common words')\n",
    "    plt.xticks(fontsize=13, rotation=90)\n",
    "    fd = nltk.FreqDist(all_words)\n",
    "    fd.plot(25,cumulative=False)\n",
    "    plt.clf()\n",
    "\n",
    "    # log-log plot\n",
    "    word_counts = sorted(Counter(all_words).values(), reverse=True)\n",
    "    plt.figure(figsize=(12,5))\n",
    "    plt.loglog(word_counts, linestyle='-', linewidth=1.5)\n",
    "    plt.ylabel(\"Freq\")\n",
    "    plt.xlabel(\"Word Rank\")\n",
    "    plt.title('log-log plot of words frequency')\n",
    "    plt.clf()\n",
    "    "
   ]
  },
  {
   "cell_type": "code",
   "execution_count": 689,
   "id": "9f92304c",
   "metadata": {},
   "outputs": [],
   "source": [
    "def sent_number (row):\n",
    "    if row['analysis'] == \"Positive\" :\n",
    "        #print (\"Positive\")\n",
    "        return 1\n",
    "    if row['analysis'] == \"Negative\" :\n",
    "        #print (\"Negative\")\n",
    "        return 0\n",
    "    if row['analysis'] == \"Neutral\" :\n",
    "        #print (\"Neutral\")\n",
    "        return None\n",
    "   "
   ]
  },
  {
   "cell_type": "code",
   "execution_count": 690,
   "id": "028bf71c",
   "metadata": {},
   "outputs": [
    {
     "data": {
      "text/plain": [
       "'\\n# get central geo location from the bounding box for later mapping\\n\\n# helper function to get mean of lats and longs\\ndef geo_mean(x):\\n    y = json.loads(x)\\n    y = np.asarray(y)\\n    mean_geoloc = np.add(np.add((y[:][0][0]),(y[:][0][1]))/2,                         (np.add((y[:][0][2]),(y[:][0][3]))/2))/2    \\n    return np.around(mean_geoloc,decimals=6)\\n'"
      ]
     },
     "execution_count": 690,
     "metadata": {},
     "output_type": "execute_result"
    }
   ],
   "source": [
    "\"\"\"\n",
    "# get central geo location from the bounding box for later mapping\n",
    "\n",
    "# helper function to get mean of lats and longs\n",
    "def geo_mean(x):\n",
    "    y = json.loads(x)\n",
    "    y = np.asarray(y)\n",
    "    mean_geoloc = np.add(np.add((y[:][0][0]),(y[:][0][1]))/2,\\\n",
    "                         (np.add((y[:][0][2]),(y[:][0][3]))/2))/2    \n",
    "    return np.around(mean_geoloc,decimals=6)\n",
    "\"\"\""
   ]
  },
  {
   "cell_type": "code",
   "execution_count": 691,
   "id": "00d421d2",
   "metadata": {},
   "outputs": [],
   "source": [
    "def do_geocode(address, attempt=1, max_attempts=10):\n",
    "    try:\n",
    "        return geopy.geocode(address)\n",
    "    except GeocoderTimedOut:\n",
    "        if attempt <= max_attempts:\n",
    "            return do_geocode(address, attempt=attempt+1)\n",
    "        raise"
   ]
  },
  {
   "cell_type": "code",
   "execution_count": 692,
   "id": "0832c6f3",
   "metadata": {},
   "outputs": [],
   "source": [
    "\n",
    "# https://www.geeksforgeeks.org/how-to-get-geolocation-in-python/\n",
    "# importing geopy library\n",
    "# \n",
    "def get_place_coords(place):\n",
    "    # calling the Nominatim tool\n",
    "    loc = Nominatim(user_agent=\"GetLoc\")\n",
    "    \n",
    "    # adding a delay to avoid a Too Many Requests error\n",
    "    # https://geopy.readthedocs.io/en/stable/#usage-with-pandas\n",
    "    geocode = RateLimiter(loc.geocode, min_delay_seconds=1)\n",
    "    \n",
    "    # entering the location name\n",
    "    # getLoc = place.apply(geocode)\n",
    "    if geocode(place):\n",
    "        getLoc = geocode(place)\n",
    "        # print(getLoc)\n",
    "        # Latitude & Longitude input\n",
    "        Latitude = str(getLoc.latitude)\n",
    "        Longitude = str(getLoc.longitude)\n",
    "        location = loc.reverse(Latitude+\",\"+Longitude, language='en')\n",
    "        address = location.raw['address']\n",
    "        # traverse the data\n",
    "        city = address.get('city', '')\n",
    "        state = address.get('state', '')\n",
    "        country = address.get('country', '')\n",
    "        return([Longitude,Latitude],country)\n",
    "    else:\n",
    "        return None\n",
    " \n",
    "    # printing address\n",
    "    #print(getLoc.address)\n",
    " \n",
    "    # printing latitude and longitude\n",
    "    #print(\"Latitude = \", getLoc.latitude, \"\\n\")\n",
    "    #print(\"Longitude = \", getLoc.longitude)\n",
    "    \n",
    "    \n"
   ]
  },
  {
   "cell_type": "code",
   "execution_count": 693,
   "id": "0f09c7ef",
   "metadata": {},
   "outputs": [],
   "source": [
    "# get latitudes and longitudes\n",
    "\n",
    "# some helper funtions to get longs and lats\n",
    "def lats(x):\n",
    "    return x[1]\n",
    "\n",
    "def longs(x):\n",
    "    return x[0]\n",
    "\n",
    "# --------------------------------------------------------#\n",
    "def get_lat_longs(df):\n",
    "# append longs and lats to dframe\n",
    "    df['latitude'] = df['geo_code'].apply(lats)\n",
    "    df['longitude'] = df['geo_code'].apply(longs)\n",
    "    return(df)\n"
   ]
  },
  {
   "cell_type": "code",
   "execution_count": null,
   "id": "f1044800",
   "metadata": {},
   "outputs": [],
   "source": []
  },
  {
   "cell_type": "code",
   "execution_count": 694,
   "id": "fab79fdf",
   "metadata": {},
   "outputs": [],
   "source": [
    "# http://www.mikaelbrunila.fi/2017/03/27/scraping-extracting-mapping-geodata-twitter/\n",
    "# Note that the “coordinates” attributes is formatted as [LONGITUDE, latitude],\n",
    "\"\"\"\n",
    "['id' 'date' 'full_name' 'country' 'country_code' 'coordinates'\n",
    " 'bbox_coords' 'place_type' 'message' 'message' 'polarity' 'subjectivity'\n",
    " 'analysis']\n",
    "\"\"\"\n",
    "def geo_data(df):\n",
    "    # print(df['coordinates'].head(10))\n",
    "    # print(df.columns.values)\n",
    "    df = df.reset_index()\n",
    "    df[\"geo_code\"] = np.nan\n",
    "    count=0\n",
    "    lst = []\n",
    "    for a in range(1):\n",
    "        lst.append([1, 2, 3])\n",
    "\n",
    "    for index, tweet in df.iterrows():\n",
    "        # tweet_fullname=tweet['full_name']\n",
    "        if tweet['coordinates'] != \"None\":\n",
    "            #print(\"Hello\")\n",
    "            #print(tweet['coordinates'])\n",
    "            #print(type(tweet['coordinates']))\n",
    "            new_dict=ast.literal_eval(tweet['coordinates'])\n",
    "            # print(new_dict.get('coordinates'))\n",
    "            tweet[\"geo_code\"]=new_dict.get('coordinates')\n",
    "            lst.append(tweet)\n",
    "            #print(df[\"geo_code\"].get('coordinates') )\n",
    "            \n",
    "        elif tweet['full_name']:\n",
    "            # print(\"Got in here\")\n",
    "            place=tweet['full_name']\n",
    "            # print(place)\n",
    "            long_lat, country =get_place_coords(place)\n",
    "            if long_lat != None:\n",
    "                tweet[\"geo_code\"]=long_lat\n",
    "                tweet['country']=country\n",
    "                lst.append(tweet)\n",
    "                # print(long_lat)\n",
    "        \n",
    "        elif tweet['country']:\n",
    "            #print(\"Got in here\")\n",
    "            place=tweet['country']\n",
    "            # print(place)\n",
    "            long_lat, country =get_place_coords(place)\n",
    "            if long_lat != None:\n",
    "                tweet[\"geo_code\"]=long_lat\n",
    "                tweet['country']=country\n",
    "                lst.append(tweet)\n",
    "                # print(long_lat)\n",
    "                \n",
    "        else:\n",
    "            pass\n",
    "      \n",
    "\n",
    "        \n",
    "    \n",
    "    # columns= df.columns.values.tolist()\n",
    "    geo_data_df = pd.DataFrame(lst, columns= df.columns.values.tolist())\n",
    "    geo_data_df = geo_data_df.iloc[1: , :]\n",
    "    geo_data_df = get_lat_longs(geo_data_df)\n",
    "    # print(geo_data_df.head(3))\n",
    "    \n",
    "    return(geo_data_df)\n",
    "    \n",
    "\n"
   ]
  },
  {
   "cell_type": "code",
   "execution_count": 695,
   "id": "67645c43",
   "metadata": {},
   "outputs": [],
   "source": [
    "# https://cloud.google.com/storage/docs/uploading-objects\n",
    "\n",
    "from google.cloud import storage\n",
    "\n",
    "\n",
    "def upload_blob(bucket_name, source_file_name, destination_blob_name):\n",
    "    \"\"\"Uploads a file to the bucket.\"\"\"\n",
    "    # The ID of your GCS bucket\n",
    "    # bucket_name = \"your-bucket-name\"\n",
    "    # The path to your file to upload\n",
    "    # source_file_name = \"local/path/to/file\"\n",
    "    # The ID of your GCS object\n",
    "    # destination_blob_name = \"storage-object-name\"\n",
    "\n",
    "    storage_client = storage.Client()\n",
    "    bucket = storage_client.bucket(bucket_name)\n",
    "    blob = bucket.blob(destination_blob_name)\n",
    "\n",
    "    blob.upload_from_filename(source_file_name)\n",
    "\n",
    "    print(\n",
    "        \"File {} uploaded to {}.\".format(\n",
    "            source_file_name, destination_blob_name\n",
    "        )\n",
    "    )"
   ]
  },
  {
   "cell_type": "code",
   "execution_count": 696,
   "id": "0ba528d3",
   "metadata": {},
   "outputs": [],
   "source": [
    "def all_world(df):\n",
    "    \"\"\"\n",
    "    df = df.copy()\n",
    "    df['states'] = df['full_name'].apply(get_state)\n",
    "    # print(list(df['states'].head()))\n",
    "    # plot tweets distribution by state\n",
    "    plt.style.use('seaborn-darkgrid')\n",
    "    df_states = df[df.country=='United States']\n",
    "    df_states = df_states[df_states.states!='Non_USA']\n",
    "    x = df_states.states.value_counts()\n",
    "    x.plot(kind='bar',figsize=(14,6),fontsize=12,color='steelblue')\n",
    "    plt.ylabel('Origin of Tweets', fontsize=13)\n",
    "    # https://stackoverflow.com/questions/51054835/upload-matplotlib-output-plot-to-cloud-storage-from-flask-python\n",
    "    client = storage.Client()\n",
    "    bucket = client.bucket(\"cloud-project-bucket-1981\")\n",
    "    blob = bucket.blob('your-filename.png')\n",
    "    buf = io.BytesIO()\n",
    "    plt.savefig(buf, format='png')\n",
    "    # upload buffer contents to gcs\n",
    "    blob.upload_from_string(buf.getvalue(),content_type='image/png')\n",
    "\n",
    "    buf.close()\n",
    "\n",
    "    # gcs url to uploaded matplotlib image\n",
    "    url = blob.public_url\n",
    "    print(url)\n",
    "    plt.clf()\n",
    "    \"\"\"\n",
    "    \n",
    "    # extract total sentiment per country\n",
    "    df_country_sentiment = df.groupby(['country'])['predictions'].value_counts().unstack().fillna(0.0).reset_index()\n",
    "    print(df_country_sentiment.head(20))\n",
    "    \n",
    "    \"\"\"\n",
    "    # old_cols=df.columns.values.tolist()\n",
    "    # df_state_sentiment.rename(columns={old_cols[0]: \"states\", old_cols[1]: \"Negative\", old_cols[2]: \"Positive\"})\n",
    "    df_state_sentiment.rename(columns={0.0: \"Negative\", 1.0: \"Positive\"}, inplace = True)\n",
    "    print(len(df_state_sentiment.columns))\n",
    "    print(df_state_sentiment.columns.values)\n",
    "    df_state_sentiment['total_sentiment'] = df_state_sentiment[\"Positive\"]-df_state_sentiment[\"Negative\"]\n",
    "    print(df_state_sentiment.head(5))\n",
    "    print(\"Was I here aswell?\")\n",
    "    # Set notebook mode to work in offline\n",
    "    # https://stackoverflow.com/questions/52771328/plotly-chart-not-showing-in-jupyter-notebook\n",
    "    \n",
    "    \n",
    "    # Create the sentiment by state Heat Map \n",
    "    colorscale=[\n",
    "                [0, 'rgb(31,120,180)'], \n",
    "                [0.35, 'rgb(166, 206, 227)'], \n",
    "                [0.75, 'rgb(251,154,153)'], \n",
    "                [1, 'rgb(227,26,28)']\n",
    "               ]\n",
    "\n",
    "    data = dict(type='choropleth',\n",
    "                colorscale = colorscale,\n",
    "                reversescale=True,\n",
    "                locations = df_state_sentiment['states'],\n",
    "                z = df_state_sentiment['total_sentiment'],\n",
    "                locationmode = 'USA-states',\n",
    "                text = df_state_sentiment['states'],\n",
    "                marker = dict(line = dict(color = 'rgb(255,255,255)',width = 2)),\n",
    "                colorbar = {'title':\"Twitter Sentiment\"}\n",
    "                )\n",
    "\n",
    "    layout = dict(title = 'Twitter Sentiment: New Batman Movie',\n",
    "                  geo = dict(scope='usa'\n",
    "                            )\n",
    "                 )\n",
    "    print(df_state_sentiment.head(2))\n",
    "    choromap_us = go.Figure(data = [data],layout = layout, layout_title_text=\"Sentiment Analysis by US state\")\n",
    "    pio.renderers.default = 'jupyterlab'\n",
    "    choromap_us.show()   \n",
    "    tester=plotly.offline.plot(choromap_us,auto_open=True, image = 'png', image_filename='plot_image',\n",
    "             output_type='file', image_width=800, image_height=600, filename='temp-plot.html', validate=False) # filename='img_map.html'\n",
    "    # plotly.offline.plot(choromap_us, filename='img_map.html',auto_open=True, image = 'png', image_filename='plot_image',\n",
    "             #output_type='file', image_width=800, image_height=600, validate=False)  # save html map gs://cloud-project-bucket-1981/images/img_map.html\n",
    "    # plot_mpl(choromap_us)\n",
    "    # If you want to to download an image of the figure as well\n",
    "    # tester=plot_mpl(choromap_us, image='jpeg')\n",
    "    upload_blob(\"cloud-project-bucket-1981\", tester, \"images/fig30.html\") \n",
    "    # IFrame('gs://cloud-project-bucket-1981/images/img_map.html', width=950, height=700)  # view saved map html file\n",
    "    \"\"\""
   ]
  },
  {
   "cell_type": "code",
   "execution_count": 697,
   "id": "2520a41e",
   "metadata": {},
   "outputs": [],
   "source": [
    "def get_state(x):\n",
    "    \n",
    "    states = [\"AL\", \"AK\", \"AZ\", \"AR\", \"CA\", \"CO\", \"CT\", \"DC\", \"DE\", \"FL\", \"GA\", \n",
    "              \"HI\", \"ID\", \"IL\", \"IN\", \"IA\", \"KS\", \"KY\", \"LA\", \"ME\", \"MD\", \n",
    "              \"MA\", \"MI\", \"MN\", \"MS\", \"MO\", \"MT\", \"NE\", \"NV\", \"NH\", \"NJ\", \n",
    "              \"NM\", \"NY\", \"NC\", \"ND\", \"OH\", \"OK\", \"OR\", \"PA\", \"RI\", \"SC\", \n",
    "              \"SD\", \"TN\", \"TX\", \"UT\", \"VT\", \"VA\", \"WA\", \"WV\", \"WI\", \"WY\"]\n",
    "\n",
    "    states_dict = {\n",
    "            'AK': 'Alaska','AL': 'Alabama','AR': 'Arkansas','AS': 'American Samoa',\n",
    "            'AZ': 'Arizona','CA': 'California','CO': 'Colorado','CT': 'Connecticut',\n",
    "            'DC': 'District of Columbia','DE': 'Delaware','FL': 'Florida','GA': 'Georgia',\n",
    "            'GU': 'Guam','HI': 'Hawaii','IA': 'Iowa','ID': 'Idaho','IL': 'Illinois',\n",
    "            'IN': 'Indiana','KS': 'Kansas','KY': 'Kentucky','LA': 'Louisiana',\n",
    "            'MA': 'Massachusetts','MD': 'Maryland','ME': 'Maine','MI': 'Michigan',\n",
    "            'MN': 'Minnesota','MO': 'Missouri','MP': 'Northern Mariana Islands',\n",
    "            'MS': 'Mississippi','MT': 'Montana','NA': 'National','NC': 'North Carolina',\n",
    "            'ND': 'North Dakota','NE': 'Nebraska','NH': 'New Hampshire','NJ': 'New Jersey',\n",
    "            'NM': 'New Mexico','NV': 'Nevada','NY': 'New York','OH': 'Ohio','OK': 'Oklahoma',\n",
    "            'OR': 'Oregon','PA': 'Pennsylvania','PR': 'Puerto Rico','RI': 'Rhode Island',\n",
    "            'SC': 'South Carolina','SD': 'South Dakota','TN': 'Tennessee','TX': 'Texas',\n",
    "            'UT': 'Utah','VA': 'Virginia','VI': 'Virgin Islands','VT': 'Vermont',\n",
    "            'WA': 'Washington','WI': 'Wisconsin','WV': 'West Virginia','WY': 'Wyoming'\n",
    "    }\n",
    "\n",
    "\n",
    "    abv = x.split(',')[-1].lstrip().upper()\n",
    "    state_name = x.split(',')[0].lstrip()\n",
    "    if abv in states:\n",
    "        state = abv\n",
    "    else:\n",
    "        if state_name in states_dict.values():\n",
    "            state = list(states_dict.keys())[list(states_dict.values()).index(state_name)]\n",
    "        else:\n",
    "            state = 'Non_USA'    \n",
    "    return state\n",
    "\n",
    "# ____________________________________________________________________________\n",
    "\n",
    "def usa_non_usa(df):\n",
    "    # create abreviated states column\n",
    "    df = df.copy()\n",
    "    df['states'] = df['full_name'].apply(get_state)\n",
    "    # print(list(df['states'].head()))\n",
    "    # plot tweets distribution by state\n",
    "    plt.style.use('seaborn-darkgrid')\n",
    "    df_states = df[df.country=='United States']\n",
    "    df_states = df_states[df_states.states!='Non_USA']\n",
    "    x = df_states.states.value_counts()\n",
    "    x.plot(kind='bar',figsize=(14,6),fontsize=12,color='steelblue')\n",
    "    plt.ylabel('Origin of Tweets', fontsize=13)\n",
    "    # https://stackoverflow.com/questions/51054835/upload-matplotlib-output-plot-to-cloud-storage-from-flask-python\n",
    "    client = storage.Client()\n",
    "    bucket = client.bucket(\"cloud-project-bucket-1981\")\n",
    "    blob = bucket.blob('your-filename.png')\n",
    "    buf = io.BytesIO()\n",
    "    plt.savefig(buf, format='png')\n",
    "    # upload buffer contents to gcs\n",
    "    blob.upload_from_string(buf.getvalue(),content_type='image/png')\n",
    "\n",
    "    buf.close()\n",
    "\n",
    "    # gcs url to uploaded matplotlib image\n",
    "    url = blob.public_url\n",
    "    print(url)\n",
    "    plt.clf()\n",
    "    \n",
    "    \n",
    "    # extract total sentiment per state\n",
    "    df_state_sentiment = df_states.groupby(['states'])['predictions'].value_counts().unstack().fillna(0.0).reset_index()\n",
    "    # print(df_state_sentiment.head(20))\n",
    "    \n",
    "    # old_cols=df.columns.values.tolist()\n",
    "    # df_state_sentiment.rename(columns={old_cols[0]: \"states\", old_cols[1]: \"Negative\", old_cols[2]: \"Positive\"})\n",
    "    df_state_sentiment.rename(columns={0.0: \"Negative\", 1.0: \"Positive\"}, inplace = True)\n",
    "    print(len(df_state_sentiment.columns))\n",
    "    print(df_state_sentiment.columns.values)\n",
    "    df_state_sentiment['total_sentiment'] = df_state_sentiment[\"Positive\"]-df_state_sentiment[\"Negative\"]\n",
    "    print(df_state_sentiment.head(5))\n",
    "    print(\"Was I here aswell?\")\n",
    "    # Set notebook mode to work in offline\n",
    "    # https://stackoverflow.com/questions/52771328/plotly-chart-not-showing-in-jupyter-notebook\n",
    "    \n",
    "    \n",
    "    # Create the sentiment by state Heat Map \n",
    "    colorscale=[\n",
    "                [0, 'rgb(31,120,180)'], \n",
    "                [0.35, 'rgb(166, 206, 227)'], \n",
    "                [0.75, 'rgb(251,154,153)'], \n",
    "                [1, 'rgb(227,26,28)']\n",
    "               ]\n",
    "\n",
    "    data = dict(type='choropleth',\n",
    "                colorscale = colorscale,\n",
    "                reversescale=True,\n",
    "                locations = df_state_sentiment['states'],\n",
    "                z = df_state_sentiment['total_sentiment'],\n",
    "                locationmode = 'USA-states',\n",
    "                text = df_state_sentiment['states'],\n",
    "                marker = dict(line = dict(color = 'rgb(255,255,255)',width = 2)),\n",
    "                colorbar = {'title':\"Twitter Sentiment\"}\n",
    "                )\n",
    "\n",
    "    layout = dict(title = 'Twitter Sentiment: New Batman Movie',\n",
    "                  geo = dict(scope='usa'\n",
    "                            )\n",
    "                 )\n",
    "    print(df_state_sentiment.head(2))\n",
    "    choromap_us = go.Figure(data = [data],layout = layout, layout_title_text=\"Sentiment Analysis by US state\")\n",
    "    pio.renderers.default = 'jupyterlab'\n",
    "    choromap_us.show()   \n",
    "    tester=plotly.offline.plot(choromap_us,auto_open=True, image = 'png', image_filename='plot_image',\n",
    "             output_type='file', image_width=800, image_height=600, filename='temp-plot.html', validate=False) # filename='img_map.html'\n",
    "    # plotly.offline.plot(choromap_us, filename='img_map.html',auto_open=True, image = 'png', image_filename='plot_image',\n",
    "             #output_type='file', image_width=800, image_height=600, validate=False)  # save html map gs://cloud-project-bucket-1981/images/img_map.html\n",
    "    # plot_mpl(choromap_us)\n",
    "    # If you want to to download an image of the figure as well\n",
    "    # tester=plot_mpl(choromap_us, image='jpeg')\n",
    "    upload_blob(\"cloud-project-bucket-1981\", tester, \"images/fig35.html\") \n",
    "    # IFrame('gs://cloud-project-bucket-1981/images/img_map.html', width=950, height=700)  # view saved map html file\n",
    "\n",
    "    # use the folium library to create all tweet origins in the dataset on map of US\n",
    "\n",
    "    \"\"\"\n",
    "    geoplots = []\n",
    "    for index, row in df_states[['latitude','longitude','predictions']].iterrows():\n",
    "        geoplots.append([row['latitude'],row['longitude'],row['predictions']])\n",
    "    print(\"What about here?\")\n",
    "    mus = folium.Map(location=[39, -99], zoom_start=4)\n",
    "    plugins.Fullscreen(\n",
    "        position='topright',\n",
    "        title='Expand me',\n",
    "        title_cancel='Exit me',\n",
    "        force_separate_button=True).add_to(mus)\n",
    "\n",
    "    mus.choropleth(\n",
    "        geo_data='us_states.geojson',\n",
    "        fill_color='red', \n",
    "        fill_opacity=0.1, \n",
    "        line_opacity=0.2,\n",
    "        name='US States')\n",
    "    \n",
    "    mus.add_child(plugins.HeatMap(geoplots,\n",
    "                                name='Twitter HeatMap',\n",
    "                                radius=10,\n",
    "                                max_zoom=1,\n",
    "                                blur=10, \n",
    "                                max_val=3.0))\n",
    "    folium.TileLayer('cartodbpositron').add_to(mus)\n",
    "    folium.TileLayer('cartodbdark_matter').add_to(mus)\n",
    "    folium.TileLayer('Mapbox Control Room').add_to(mus)\n",
    "    folium.LayerControl().add_to(mus)\n",
    "    print(\"here?\")\n",
    "    print(mus)\n",
    "    HTML(mus)\n",
    "    display(HTML(mus))\n",
    "    display(mus)\n",
    "    mus.show()\n",
    "    plot_mpl(mus)\n",
    "    # If you want to to download an image of the figure as well\n",
    "    tester=plot_mpl(fig)\n",
    "    upload_blob(\"cloud-project-bucket-1981\", tester, \"twitter_us_map.html\") \n",
    "    mus.save(\"gs://cloud-project-bucket-1981/images/twitter_us_map.html\")\n",
    "    webbrowser.open(\"gs://cloud-project-bucket-1981/images/twitter_us_map.html\")\n",
    "    IFrame(\"gs://cloud-project-bucket-1981/images/twitter_us_map.html\", width=960, height=520)\n",
    "\n",
    "    # some code to save and display image to png  for all browsers support\n",
    "    img = plt.imread('gs://cloud-project-bucket-1981/images/twitter_sentiment_crop.png')\n",
    "    plt.figure(figsize=(18,9))\n",
    "    plt.show()\n",
    "    plt.imshow(img)\n",
    "    \"\"\"\n",
    "\n",
    "    \n",
    "    "
   ]
  },
  {
   "cell_type": "code",
   "execution_count": 698,
   "id": "41f870fc",
   "metadata": {},
   "outputs": [],
   "source": [
    "def tweets_per_country(df):\n",
    "    # plot histogram of tweets counts by country of origin\n",
    "    sns.set_style(\"darkgrid\")\n",
    "    x = df.country.value_counts(1).head(20)\n",
    "    x.plot(kind='bar',figsize=(10,6),fontsize=13,color='steelblue')\n",
    "    plt.ylabel('% of Total Tweets', fontsize=13)\n",
    "    plt.show()\n",
    "    plt.clf()"
   ]
  },
  {
   "cell_type": "code",
   "execution_count": 699,
   "id": "7e8c4627",
   "metadata": {},
   "outputs": [],
   "source": [
    "def build_dataframe(df):\n",
    "    del df['message']\n",
    "     # Rename column headers\n",
    "    df.rename(columns={'created_at': 'date', 'words': 'message',  'bounding_box_coordinates':'bbox_coords', 'place_coordinates':'coordinates','place_full_name':'full_name', 'place_country':'country', 'place_country_code':'country_code'}, inplace=True)\n",
    "    # print(df['message'].head(10))\n",
    "    \n",
    "   # print(df.columns.values)\n",
    "    # Sort dataframe by date column\n",
    "    df['date'] = pd.to_datetime(df['date'])\n",
    "    df = df.sort_values(by='date',ascending=True)\n",
    "    df = df.reset_index().drop('index',axis=1)\n",
    "    df['predictions'] = df.apply (lambda row: sent_number(row), axis=1)\n",
    "    df = df[df['predictions'].notna()] \n",
    "    # print(df['predictions'].unique())\n",
    "    geo_data_df=geo_data(df)\n",
    "    tweets_per_country(geo_data_df)\n",
    "    usa_non_usa(geo_data_df)\n",
    "    all_world(geo_data_df)\n",
    "\n",
    "\n",
    "\n",
    "    \n",
    "    "
   ]
  },
  {
   "cell_type": "code",
   "execution_count": 700,
   "id": "e488dfe2",
   "metadata": {},
   "outputs": [],
   "source": [
    "def visualize_results_from_batch(tweets):\n",
    "    # https://stackoverflow.com/questions/36018681/stop-seaborn-plotting-multiple-figures-on-top-of-one-another\n",
    "    testDF = tweets.toPandas()\n",
    "    # print(testDF.columns.values)\n",
    "    # print(testDF.head(10))\n",
    "    get_ipython().run_line_magic('matplotlib', 'inline')\n",
    "    df_2 = testDF.groupby('analysis').count()\n",
    "    df_2.reset_index(inplace=True)\n",
    "    df_2.head()\n",
    "    sns.barplot(x='analysis', y='id', data=df_2)\n",
    "    plt.show()\n",
    "    plt.clf()\n",
    "    wordcloud_creator(testDF)\n",
    "    data_details(testDF)\n",
    "    word_freq_plot(testDF)\n",
    "    build_dataframe(testDF)"
   ]
  },
  {
   "cell_type": "code",
   "execution_count": 701,
   "id": "7c8f1dba",
   "metadata": {},
   "outputs": [],
   "source": [
    "def start_batch_processing(spark):\n",
    "    # folderDF = spark.read.text('gs://cloud-project-bucket-1981/Data/*')\n",
    "    folderDF = spark.read.text('gs://cloud-project-bucket-1981/DataReduced/*')\n",
    "    # folderDF = spark.read.text('gs://cloud-project-bucket-1981/Data/2022-03-14-13-54-1503368870647672833-1503368870647672833.json')\n",
    "    tweets = folderDF\n",
    "    tweets = process_tweets(folderDF)\n",
    "    tweets = text_classification(tweets)\n",
    "    \n",
    "    return tweets"
   ]
  },
  {
   "cell_type": "code",
   "execution_count": 702,
   "id": "e631aec4",
   "metadata": {},
   "outputs": [
    {
     "name": "stderr",
     "output_type": "stream",
     "text": [
      "22/03/15 11:59:52 INFO org.apache.spark.SparkEnv: Registering MapOutputTracker\n",
      "22/03/15 11:59:52 INFO org.apache.spark.SparkEnv: Registering BlockManagerMaster\n",
      "22/03/15 11:59:52 INFO org.apache.spark.SparkEnv: Registering BlockManagerMasterHeartbeat\n",
      "22/03/15 11:59:52 INFO org.apache.spark.SparkEnv: Registering OutputCommitCoordinator\n"
     ]
    },
    {
     "data": {
      "image/png": "[encoded data removed]",
      "text/plain": [
       "<Figure size 432x288 with 1 Axes>"
      ]
     },
     "metadata": {
      "needs_background": "light"
     },
     "output_type": "display_data"
    },
    {
     "name": "stdout",
     "output_type": "stream",
     "text": [
      "number of positve tagged sentences is:  3709\n",
      "number of negative tagged sentences is: 1149\n",
      "total length of the data is:            9000\n"
     ]
    },
    {
     "data": {
      "text/plain": [
       "<Figure size 432x288 with 0 Axes>"
      ]
     },
     "metadata": {},
     "output_type": "display_data"
    },
    {
     "data": {
      "text/plain": [
       "<Figure size 864x432 with 0 Axes>"
      ]
     },
     "metadata": {},
     "output_type": "display_data"
    },
    {
     "data": {
      "image/png": "[encoded data removed]",
      "text/plain": [
       "<Figure size 864x360 with 1 Axes>"
      ]
     },
     "metadata": {
      "needs_background": "light"
     },
     "output_type": "display_data"
    },
    {
     "name": "stderr",
     "output_type": "stream",
     "text": [
      "RateLimiter caught an error, retrying (0/2 tries). Called with (*('大阪 大阪市 中央区',), **{}).\n",
      "Traceback (most recent call last):\n",
      "  File \"/opt/conda/miniconda3/lib/python3.8/site-packages/urllib3/connectionpool.py\", line 426, in _make_request\n",
      "    six.raise_from(e, None)\n",
      "  File \"<string>\", line 3, in raise_from\n",
      "  File \"/opt/conda/miniconda3/lib/python3.8/site-packages/urllib3/connectionpool.py\", line 421, in _make_request\n",
      "    httplib_response = conn.getresponse()\n",
      "  File \"/opt/conda/miniconda3/lib/python3.8/http/client.py\", line 1348, in getresponse\n",
      "    response.begin()\n",
      "  File \"/opt/conda/miniconda3/lib/python3.8/http/client.py\", line 316, in begin\n",
      "    version, status, reason = self._read_status()\n",
      "  File \"/opt/conda/miniconda3/lib/python3.8/http/client.py\", line 277, in _read_status\n",
      "    line = str(self.fp.readline(_MAXLINE + 1), \"iso-8859-1\")\n",
      "  File \"/opt/conda/miniconda3/lib/python3.8/socket.py\", line 669, in readinto\n",
      "    return self._sock.recv_into(b)\n",
      "  File \"/opt/conda/miniconda3/lib/python3.8/ssl.py\", line 1241, in recv_into\n",
      "    return self.read(nbytes, buffer)\n",
      "  File \"/opt/conda/miniconda3/lib/python3.8/ssl.py\", line 1099, in read\n",
      "    return self._sslobj.read(len, buffer)\n",
      "socket.timeout: The read operation timed out\n",
      "\n",
      "During handling of the above exception, another exception occurred:\n",
      "\n",
      "Traceback (most recent call last):\n",
      "  File \"/opt/conda/miniconda3/lib/python3.8/site-packages/urllib3/connectionpool.py\", line 670, in urlopen\n",
      "    httplib_response = self._make_request(\n",
      "  File \"/opt/conda/miniconda3/lib/python3.8/site-packages/urllib3/connectionpool.py\", line 428, in _make_request\n",
      "    self._raise_timeout(err=e, url=url, timeout_value=read_timeout)\n",
      "  File \"/opt/conda/miniconda3/lib/python3.8/site-packages/urllib3/connectionpool.py\", line 335, in _raise_timeout\n",
      "    raise ReadTimeoutError(\n",
      "urllib3.exceptions.ReadTimeoutError: HTTPSConnectionPool(host='nominatim.openstreetmap.org', port=443): Read timed out. (read timeout=1)\n",
      "\n",
      "During handling of the above exception, another exception occurred:\n",
      "\n",
      "Traceback (most recent call last):\n",
      "  File \"/opt/conda/miniconda3/lib/python3.8/site-packages/requests/adapters.py\", line 440, in send\n",
      "    resp = conn.urlopen(\n",
      "  File \"/opt/conda/miniconda3/lib/python3.8/site-packages/urllib3/connectionpool.py\", line 754, in urlopen\n",
      "    return self.urlopen(\n",
      "  File \"/opt/conda/miniconda3/lib/python3.8/site-packages/urllib3/connectionpool.py\", line 754, in urlopen\n",
      "    return self.urlopen(\n",
      "  File \"/opt/conda/miniconda3/lib/python3.8/site-packages/urllib3/connectionpool.py\", line 726, in urlopen\n",
      "    retries = retries.increment(\n",
      "  File \"/opt/conda/miniconda3/lib/python3.8/site-packages/urllib3/util/retry.py\", line 446, in increment\n",
      "    raise MaxRetryError(_pool, url, error or ResponseError(cause))\n",
      "urllib3.exceptions.MaxRetryError: HTTPSConnectionPool(host='nominatim.openstreetmap.org', port=443): Max retries exceeded with url: /search?q=%E5%A4%A7%E9%98%AA+%E5%A4%A7%E9%98%AA%E5%B8%82+%E4%B8%AD%E5%A4%AE%E5%8C%BA&format=json&limit=1 (Caused by ReadTimeoutError(\"HTTPSConnectionPool(host='nominatim.openstreetmap.org', port=443): Read timed out. (read timeout=1)\"))\n",
      "\n",
      "During handling of the above exception, another exception occurred:\n",
      "\n",
      "Traceback (most recent call last):\n",
      "  File \"/opt/conda/miniconda3/lib/python3.8/site-packages/geopy/adapters.py\", line 448, in _request\n",
      "    resp = self.session.get(url, timeout=timeout, headers=headers)\n",
      "  File \"/opt/conda/miniconda3/lib/python3.8/site-packages/requests/sessions.py\", line 542, in get\n",
      "    return self.request('GET', url, **kwargs)\n",
      "  File \"/opt/conda/miniconda3/lib/python3.8/site-packages/requests/sessions.py\", line 529, in request\n",
      "    resp = self.send(prep, **send_kwargs)\n",
      "  File \"/opt/conda/miniconda3/lib/python3.8/site-packages/requests/sessions.py\", line 645, in send\n",
      "    r = adapter.send(request, **kwargs)\n",
      "  File \"/opt/conda/miniconda3/lib/python3.8/site-packages/requests/adapters.py\", line 519, in send\n",
      "    raise ConnectionError(e, request=request)\n",
      "requests.exceptions.ConnectionError: HTTPSConnectionPool(host='nominatim.openstreetmap.org', port=443): Max retries exceeded with url: /search?q=%E5%A4%A7%E9%98%AA+%E5%A4%A7%E9%98%AA%E5%B8%82+%E4%B8%AD%E5%A4%AE%E5%8C%BA&format=json&limit=1 (Caused by ReadTimeoutError(\"HTTPSConnectionPool(host='nominatim.openstreetmap.org', port=443): Read timed out. (read timeout=1)\"))\n",
      "\n",
      "During handling of the above exception, another exception occurred:\n",
      "\n",
      "Traceback (most recent call last):\n",
      "  File \"/opt/conda/miniconda3/lib/python3.8/site-packages/geopy/extra/rate_limiter.py\", line 136, in _retries_gen\n",
      "    yield i  # Run the function.\n",
      "  File \"/opt/conda/miniconda3/lib/python3.8/site-packages/geopy/extra/rate_limiter.py\", line 274, in __call__\n",
      "    res = self.func(*args, **kwargs)\n",
      "  File \"/opt/conda/miniconda3/lib/python3.8/site-packages/geopy/geocoders/nominatim.py\", line 297, in geocode\n",
      "    return self._call_geocoder(url, callback, timeout=timeout)\n",
      "  File \"/opt/conda/miniconda3/lib/python3.8/site-packages/geopy/geocoders/base.py\", line 368, in _call_geocoder\n",
      "    result = self.adapter.get_json(url, timeout=timeout, headers=req_headers)\n",
      "  File \"/opt/conda/miniconda3/lib/python3.8/site-packages/geopy/adapters.py\", line 438, in get_json\n",
      "    resp = self._request(url, timeout=timeout, headers=headers)\n",
      "  File \"/opt/conda/miniconda3/lib/python3.8/site-packages/geopy/adapters.py\", line 460, in _request\n",
      "    raise GeocoderUnavailable(message)\n",
      "geopy.exc.GeocoderUnavailable: HTTPSConnectionPool(host='nominatim.openstreetmap.org', port=443): Max retries exceeded with url: /search?q=%E5%A4%A7%E9%98%AA+%E5%A4%A7%E9%98%AA%E5%B8%82+%E4%B8%AD%E5%A4%AE%E5%8C%BA&format=json&limit=1 (Caused by ReadTimeoutError(\"HTTPSConnectionPool(host='nominatim.openstreetmap.org', port=443): Read timed out. (read timeout=1)\"))\n",
      "RateLimiter caught an error, retrying (1/2 tries). Called with (*('大阪 大阪市 中央区',), **{}).\n",
      "Traceback (most recent call last):\n",
      "  File \"/opt/conda/miniconda3/lib/python3.8/site-packages/urllib3/connectionpool.py\", line 426, in _make_request\n",
      "    six.raise_from(e, None)\n",
      "  File \"<string>\", line 3, in raise_from\n",
      "  File \"/opt/conda/miniconda3/lib/python3.8/site-packages/urllib3/connectionpool.py\", line 421, in _make_request\n",
      "    httplib_response = conn.getresponse()\n",
      "  File \"/opt/conda/miniconda3/lib/python3.8/http/client.py\", line 1348, in getresponse\n",
      "    response.begin()\n",
      "  File \"/opt/conda/miniconda3/lib/python3.8/http/client.py\", line 316, in begin\n",
      "    version, status, reason = self._read_status()\n",
      "  File \"/opt/conda/miniconda3/lib/python3.8/http/client.py\", line 277, in _read_status\n",
      "    line = str(self.fp.readline(_MAXLINE + 1), \"iso-8859-1\")\n",
      "  File \"/opt/conda/miniconda3/lib/python3.8/socket.py\", line 669, in readinto\n",
      "    return self._sock.recv_into(b)\n",
      "  File \"/opt/conda/miniconda3/lib/python3.8/ssl.py\", line 1241, in recv_into\n",
      "    return self.read(nbytes, buffer)\n",
      "  File \"/opt/conda/miniconda3/lib/python3.8/ssl.py\", line 1099, in read\n",
      "    return self._sslobj.read(len, buffer)\n",
      "socket.timeout: The read operation timed out\n",
      "\n",
      "During handling of the above exception, another exception occurred:\n",
      "\n",
      "Traceback (most recent call last):\n",
      "  File \"/opt/conda/miniconda3/lib/python3.8/site-packages/urllib3/connectionpool.py\", line 670, in urlopen\n",
      "    httplib_response = self._make_request(\n",
      "  File \"/opt/conda/miniconda3/lib/python3.8/site-packages/urllib3/connectionpool.py\", line 428, in _make_request\n",
      "    self._raise_timeout(err=e, url=url, timeout_value=read_timeout)\n",
      "  File \"/opt/conda/miniconda3/lib/python3.8/site-packages/urllib3/connectionpool.py\", line 335, in _raise_timeout\n",
      "    raise ReadTimeoutError(\n",
      "urllib3.exceptions.ReadTimeoutError: HTTPSConnectionPool(host='nominatim.openstreetmap.org', port=443): Read timed out. (read timeout=1)\n",
      "\n",
      "During handling of the above exception, another exception occurred:\n",
      "\n",
      "Traceback (most recent call last):\n",
      "  File \"/opt/conda/miniconda3/lib/python3.8/site-packages/requests/adapters.py\", line 440, in send\n",
      "    resp = conn.urlopen(\n",
      "  File \"/opt/conda/miniconda3/lib/python3.8/site-packages/urllib3/connectionpool.py\", line 754, in urlopen\n",
      "    return self.urlopen(\n",
      "  File \"/opt/conda/miniconda3/lib/python3.8/site-packages/urllib3/connectionpool.py\", line 754, in urlopen\n",
      "    return self.urlopen(\n",
      "  File \"/opt/conda/miniconda3/lib/python3.8/site-packages/urllib3/connectionpool.py\", line 726, in urlopen\n",
      "    retries = retries.increment(\n",
      "  File \"/opt/conda/miniconda3/lib/python3.8/site-packages/urllib3/util/retry.py\", line 446, in increment\n",
      "    raise MaxRetryError(_pool, url, error or ResponseError(cause))\n",
      "urllib3.exceptions.MaxRetryError: HTTPSConnectionPool(host='nominatim.openstreetmap.org', port=443): Max retries exceeded with url: /search?q=%E5%A4%A7%E9%98%AA+%E5%A4%A7%E9%98%AA%E5%B8%82+%E4%B8%AD%E5%A4%AE%E5%8C%BA&format=json&limit=1 (Caused by ReadTimeoutError(\"HTTPSConnectionPool(host='nominatim.openstreetmap.org', port=443): Read timed out. (read timeout=1)\"))\n",
      "\n",
      "During handling of the above exception, another exception occurred:\n",
      "\n",
      "Traceback (most recent call last):\n",
      "  File \"/opt/conda/miniconda3/lib/python3.8/site-packages/geopy/adapters.py\", line 448, in _request\n",
      "    resp = self.session.get(url, timeout=timeout, headers=headers)\n",
      "  File \"/opt/conda/miniconda3/lib/python3.8/site-packages/requests/sessions.py\", line 542, in get\n",
      "    return self.request('GET', url, **kwargs)\n",
      "  File \"/opt/conda/miniconda3/lib/python3.8/site-packages/requests/sessions.py\", line 529, in request\n",
      "    resp = self.send(prep, **send_kwargs)\n",
      "  File \"/opt/conda/miniconda3/lib/python3.8/site-packages/requests/sessions.py\", line 645, in send\n",
      "    r = adapter.send(request, **kwargs)\n",
      "  File \"/opt/conda/miniconda3/lib/python3.8/site-packages/requests/adapters.py\", line 519, in send\n",
      "    raise ConnectionError(e, request=request)\n",
      "requests.exceptions.ConnectionError: HTTPSConnectionPool(host='nominatim.openstreetmap.org', port=443): Max retries exceeded with url: /search?q=%E5%A4%A7%E9%98%AA+%E5%A4%A7%E9%98%AA%E5%B8%82+%E4%B8%AD%E5%A4%AE%E5%8C%BA&format=json&limit=1 (Caused by ReadTimeoutError(\"HTTPSConnectionPool(host='nominatim.openstreetmap.org', port=443): Read timed out. (read timeout=1)\"))\n",
      "\n",
      "During handling of the above exception, another exception occurred:\n",
      "\n",
      "Traceback (most recent call last):\n",
      "  File \"/opt/conda/miniconda3/lib/python3.8/site-packages/geopy/extra/rate_limiter.py\", line 136, in _retries_gen\n",
      "    yield i  # Run the function.\n",
      "  File \"/opt/conda/miniconda3/lib/python3.8/site-packages/geopy/extra/rate_limiter.py\", line 274, in __call__\n",
      "    res = self.func(*args, **kwargs)\n",
      "  File \"/opt/conda/miniconda3/lib/python3.8/site-packages/geopy/geocoders/nominatim.py\", line 297, in geocode\n",
      "    return self._call_geocoder(url, callback, timeout=timeout)\n",
      "  File \"/opt/conda/miniconda3/lib/python3.8/site-packages/geopy/geocoders/base.py\", line 368, in _call_geocoder\n",
      "    result = self.adapter.get_json(url, timeout=timeout, headers=req_headers)\n",
      "  File \"/opt/conda/miniconda3/lib/python3.8/site-packages/geopy/adapters.py\", line 438, in get_json\n",
      "    resp = self._request(url, timeout=timeout, headers=headers)\n",
      "  File \"/opt/conda/miniconda3/lib/python3.8/site-packages/geopy/adapters.py\", line 460, in _request\n",
      "    raise GeocoderUnavailable(message)\n",
      "geopy.exc.GeocoderUnavailable: HTTPSConnectionPool(host='nominatim.openstreetmap.org', port=443): Max retries exceeded with url: /search?q=%E5%A4%A7%E9%98%AA+%E5%A4%A7%E9%98%AA%E5%B8%82+%E4%B8%AD%E5%A4%AE%E5%8C%BA&format=json&limit=1 (Caused by ReadTimeoutError(\"HTTPSConnectionPool(host='nominatim.openstreetmap.org', port=443): Read timed out. (read timeout=1)\"))\n"
     ]
    },
    {
     "data": {
      "text/plain": [
       "<Figure size 432x288 with 0 Axes>"
      ]
     },
     "metadata": {},
     "output_type": "display_data"
    },
    {
     "data": {
      "image/png": "[encoded data removed]",
      "text/plain": [
       "<Figure size 720x432 with 1 Axes>"
      ]
     },
     "metadata": {
      "needs_background": "light"
     },
     "output_type": "display_data"
    },
    {
     "name": "stdout",
     "output_type": "stream",
     "text": [
      "https://storage.googleapis.com/cloud-project-bucket-1981/your-filename.png\n",
      "3\n",
      "['states' 'Negative' 'Positive']\n",
      "predictions states  Negative  Positive  total_sentiment\n",
      "0               CA       0.0       2.0              2.0\n",
      "1               FL       0.0       1.0              1.0\n",
      "2               ID       0.0       1.0              1.0\n",
      "3               MA       0.0       1.0              1.0\n",
      "4               MD       0.0       1.0              1.0\n",
      "Was I here aswell?\n",
      "predictions states  Negative  Positive  total_sentiment\n",
      "0               CA       0.0       2.0              2.0\n",
      "1               FL       0.0       1.0              1.0\n"
     ]
    },
    {
     "data": {
      "application/vnd.plotly.v1+json": {
       "config": {
        "plotlyServerURL": "https://plot.ly"
       },
       "data": [
        {
         "colorbar": {
          "title": {
           "text": "Twitter Sentiment"
          }
         },
         "colorscale": [
          [
           0,
           "rgb(31,120,180)"
          ],
          [
           0.35,
           "rgb(166, 206, 227)"
          ],
          [
           0.75,
           "rgb(251,154,153)"
          ],
          [
           1,
           "rgb(227,26,28)"
          ]
         ],
         "locationmode": "USA-states",
         "locations": [
          "CA",
          "FL",
          "ID",
          "MA",
          "MD",
          "OH",
          "TX",
          "WI"
         ],
         "marker": {
          "line": {
           "color": "rgb(255,255,255)",
           "width": 2
          }
         },
         "reversescale": true,
         "text": [
          "CA",
          "FL",
          "ID",
          "MA",
          "MD",
          "OH",
          "TX",
          "WI"
         ],
         "type": "choropleth",
         "z": [
          2,
          1,
          1,
          1,
          1,
          1,
          -1,
          1
         ]
        }
       ],
       "layout": {
        "autosize": true,
        "geo": {
         "scope": "usa"
        },
        "template": {
         "data": {
          "bar": [
           {
            "error_x": {
             "color": "#2a3f5f"
            },
            "error_y": {
             "color": "#2a3f5f"
            },
            "marker": {
             "line": {
              "color": "#E5ECF6",
              "width": 0.5
             },
             "pattern": {
              "fillmode": "overlay",
              "size": 10,
              "solidity": 0.2
             }
            },
            "type": "bar"
           }
          ],
          "barpolar": [
           {
            "marker": {
             "line": {
              "color": "#E5ECF6",
              "width": 0.5
             },
             "pattern": {
              "fillmode": "overlay",
              "size": 10,
              "solidity": 0.2
             }
            },
            "type": "barpolar"
           }
          ],
          "carpet": [
           {
            "aaxis": {
             "endlinecolor": "#2a3f5f",
             "gridcolor": "white",
             "linecolor": "white",
             "minorgridcolor": "white",
             "startlinecolor": "#2a3f5f"
            },
            "baxis": {
             "endlinecolor": "#2a3f5f",
             "gridcolor": "white",
             "linecolor": "white",
             "minorgridcolor": "white",
             "startlinecolor": "#2a3f5f"
            },
            "type": "carpet"
           }
          ],
          "choropleth": [
           {
            "colorbar": {
             "outlinewidth": 0,
             "ticks": ""
            },
            "type": "choropleth"
           }
          ],
          "contour": [
           {
            "colorbar": {
             "outlinewidth": 0,
             "ticks": ""
            },
            "colorscale": [
             [
              0,
              "#0d0887"
             ],
             [
              0.1111111111111111,
              "#46039f"
             ],
             [
              0.2222222222222222,
              "#7201a8"
             ],
             [
              0.3333333333333333,
              "#9c179e"
             ],
             [
              0.4444444444444444,
              "#bd3786"
             ],
             [
              0.5555555555555556,
              "#d8576b"
             ],
             [
              0.6666666666666666,
              "#ed7953"
             ],
             [
              0.7777777777777778,
              "#fb9f3a"
             ],
             [
              0.8888888888888888,
              "#fdca26"
             ],
             [
              1,
              "#f0f921"
             ]
            ],
            "type": "contour"
           }
          ],
          "contourcarpet": [
           {
            "colorbar": {
             "outlinewidth": 0,
             "ticks": ""
            },
            "type": "contourcarpet"
           }
          ],
          "heatmap": [
           {
            "colorbar": {
             "outlinewidth": 0,
             "ticks": ""
            },
            "colorscale": [
             [
              0,
              "#0d0887"
             ],
             [
              0.1111111111111111,
              "#46039f"
             ],
             [
              0.2222222222222222,
              "#7201a8"
             ],
             [
              0.3333333333333333,
              "#9c179e"
             ],
             [
              0.4444444444444444,
              "#bd3786"
             ],
             [
              0.5555555555555556,
              "#d8576b"
             ],
             [
              0.6666666666666666,
              "#ed7953"
             ],
             [
              0.7777777777777778,
              "#fb9f3a"
             ],
             [
              0.8888888888888888,
              "#fdca26"
             ],
             [
              1,
              "#f0f921"
             ]
            ],
            "type": "heatmap"
           }
          ],
          "heatmapgl": [
           {
            "colorbar": {
             "outlinewidth": 0,
             "ticks": ""
            },
            "colorscale": [
             [
              0,
              "#0d0887"
             ],
             [
              0.1111111111111111,
              "#46039f"
             ],
             [
              0.2222222222222222,
              "#7201a8"
             ],
             [
              0.3333333333333333,
              "#9c179e"
             ],
             [
              0.4444444444444444,
              "#bd3786"
             ],
             [
              0.5555555555555556,
              "#d8576b"
             ],
             [
              0.6666666666666666,
              "#ed7953"
             ],
             [
              0.7777777777777778,
              "#fb9f3a"
             ],
             [
              0.8888888888888888,
              "#fdca26"
             ],
             [
              1,
              "#f0f921"
             ]
            ],
            "type": "heatmapgl"
           }
          ],
          "histogram": [
           {
            "marker": {
             "pattern": {
              "fillmode": "overlay",
              "size": 10,
              "solidity": 0.2
             }
            },
            "type": "histogram"
           }
          ],
          "histogram2d": [
           {
            "colorbar": {
             "outlinewidth": 0,
             "ticks": ""
            },
            "colorscale": [
             [
              0,
              "#0d0887"
             ],
             [
              0.1111111111111111,
              "#46039f"
             ],
             [
              0.2222222222222222,
              "#7201a8"
             ],
             [
              0.3333333333333333,
              "#9c179e"
             ],
             [
              0.4444444444444444,
              "#bd3786"
             ],
             [
              0.5555555555555556,
              "#d8576b"
             ],
             [
              0.6666666666666666,
              "#ed7953"
             ],
             [
              0.7777777777777778,
              "#fb9f3a"
             ],
             [
              0.8888888888888888,
              "#fdca26"
             ],
             [
              1,
              "#f0f921"
             ]
            ],
            "type": "histogram2d"
           }
          ],
          "histogram2dcontour": [
           {
            "colorbar": {
             "outlinewidth": 0,
             "ticks": ""
            },
            "colorscale": [
             [
              0,
              "#0d0887"
             ],
             [
              0.1111111111111111,
              "#46039f"
             ],
             [
              0.2222222222222222,
              "#7201a8"
             ],
             [
              0.3333333333333333,
              "#9c179e"
             ],
             [
              0.4444444444444444,
              "#bd3786"
             ],
             [
              0.5555555555555556,
              "#d8576b"
             ],
             [
              0.6666666666666666,
              "#ed7953"
             ],
             [
              0.7777777777777778,
              "#fb9f3a"
             ],
             [
              0.8888888888888888,
              "#fdca26"
             ],
             [
              1,
              "#f0f921"
             ]
            ],
            "type": "histogram2dcontour"
           }
          ],
          "mesh3d": [
           {
            "colorbar": {
             "outlinewidth": 0,
             "ticks": ""
            },
            "type": "mesh3d"
           }
          ],
          "parcoords": [
           {
            "line": {
             "colorbar": {
              "outlinewidth": 0,
              "ticks": ""
             }
            },
            "type": "parcoords"
           }
          ],
          "pie": [
           {
            "automargin": true,
            "type": "pie"
           }
          ],
          "scatter": [
           {
            "marker": {
             "colorbar": {
              "outlinewidth": 0,
              "ticks": ""
             }
            },
            "type": "scatter"
           }
          ],
          "scatter3d": [
           {
            "line": {
             "colorbar": {
              "outlinewidth": 0,
              "ticks": ""
             }
            },
            "marker": {
             "colorbar": {
              "outlinewidth": 0,
              "ticks": ""
             }
            },
            "type": "scatter3d"
           }
          ],
          "scattercarpet": [
           {
            "marker": {
             "colorbar": {
              "outlinewidth": 0,
              "ticks": ""
             }
            },
            "type": "scattercarpet"
           }
          ],
          "scattergeo": [
           {
            "marker": {
             "colorbar": {
              "outlinewidth": 0,
              "ticks": ""
             }
            },
            "type": "scattergeo"
           }
          ],
          "scattergl": [
           {
            "marker": {
             "colorbar": {
              "outlinewidth": 0,
              "ticks": ""
             }
            },
            "type": "scattergl"
           }
          ],
          "scattermapbox": [
           {
            "marker": {
             "colorbar": {
              "outlinewidth": 0,
              "ticks": ""
             }
            },
            "type": "scattermapbox"
           }
          ],
          "scatterpolar": [
           {
            "marker": {
             "colorbar": {
              "outlinewidth": 0,
              "ticks": ""
             }
            },
            "type": "scatterpolar"
           }
          ],
          "scatterpolargl": [
           {
            "marker": {
             "colorbar": {
              "outlinewidth": 0,
              "ticks": ""
             }
            },
            "type": "scatterpolargl"
           }
          ],
          "scatterternary": [
           {
            "marker": {
             "colorbar": {
              "outlinewidth": 0,
              "ticks": ""
             }
            },
            "type": "scatterternary"
           }
          ],
          "surface": [
           {
            "colorbar": {
             "outlinewidth": 0,
             "ticks": ""
            },
            "colorscale": [
             [
              0,
              "#0d0887"
             ],
             [
              0.1111111111111111,
              "#46039f"
             ],
             [
              0.2222222222222222,
              "#7201a8"
             ],
             [
              0.3333333333333333,
              "#9c179e"
             ],
             [
              0.4444444444444444,
              "#bd3786"
             ],
             [
              0.5555555555555556,
              "#d8576b"
             ],
             [
              0.6666666666666666,
              "#ed7953"
             ],
             [
              0.7777777777777778,
              "#fb9f3a"
             ],
             [
              0.8888888888888888,
              "#fdca26"
             ],
             [
              1,
              "#f0f921"
             ]
            ],
            "type": "surface"
           }
          ],
          "table": [
           {
            "cells": {
             "fill": {
              "color": "#EBF0F8"
             },
             "line": {
              "color": "white"
             }
            },
            "header": {
             "fill": {
              "color": "#C8D4E3"
             },
             "line": {
              "color": "white"
             }
            },
            "type": "table"
           }
          ]
         },
         "layout": {
          "annotationdefaults": {
           "arrowcolor": "#2a3f5f",
           "arrowhead": 0,
           "arrowwidth": 1
          },
          "autotypenumbers": "strict",
          "coloraxis": {
           "colorbar": {
            "outlinewidth": 0,
            "ticks": ""
           }
          },
          "colorscale": {
           "diverging": [
            [
             0,
             "#8e0152"
            ],
            [
             0.1,
             "#c51b7d"
            ],
            [
             0.2,
             "#de77ae"
            ],
            [
             0.3,
             "#f1b6da"
            ],
            [
             0.4,
             "#fde0ef"
            ],
            [
             0.5,
             "#f7f7f7"
            ],
            [
             0.6,
             "#e6f5d0"
            ],
            [
             0.7,
             "#b8e186"
            ],
            [
             0.8,
             "#7fbc41"
            ],
            [
             0.9,
             "#4d9221"
            ],
            [
             1,
             "#276419"
            ]
           ],
           "sequential": [
            [
             0,
             "#0d0887"
            ],
            [
             0.1111111111111111,
             "#46039f"
            ],
            [
             0.2222222222222222,
             "#7201a8"
            ],
            [
             0.3333333333333333,
             "#9c179e"
            ],
            [
             0.4444444444444444,
             "#bd3786"
            ],
            [
             0.5555555555555556,
             "#d8576b"
            ],
            [
             0.6666666666666666,
             "#ed7953"
            ],
            [
             0.7777777777777778,
             "#fb9f3a"
            ],
            [
             0.8888888888888888,
             "#fdca26"
            ],
            [
             1,
             "#f0f921"
            ]
           ],
           "sequentialminus": [
            [
             0,
             "#0d0887"
            ],
            [
             0.1111111111111111,
             "#46039f"
            ],
            [
             0.2222222222222222,
             "#7201a8"
            ],
            [
             0.3333333333333333,
             "#9c179e"
            ],
            [
             0.4444444444444444,
             "#bd3786"
            ],
            [
             0.5555555555555556,
             "#d8576b"
            ],
            [
             0.6666666666666666,
             "#ed7953"
            ],
            [
             0.7777777777777778,
             "#fb9f3a"
            ],
            [
             0.8888888888888888,
             "#fdca26"
            ],
            [
             1,
             "#f0f921"
            ]
           ]
          },
          "colorway": [
           "#636efa",
           "#EF553B",
           "#00cc96",
           "#ab63fa",
           "#FFA15A",
           "#19d3f3",
           "#FF6692",
           "#B6E880",
           "#FF97FF",
           "#FECB52"
          ],
          "font": {
           "color": "#2a3f5f"
          },
          "geo": {
           "bgcolor": "white",
           "lakecolor": "white",
           "landcolor": "#E5ECF6",
           "showlakes": true,
           "showland": true,
           "subunitcolor": "white"
          },
          "hoverlabel": {
           "align": "left"
          },
          "hovermode": "closest",
          "mapbox": {
           "style": "light"
          },
          "paper_bgcolor": "white",
          "plot_bgcolor": "#E5ECF6",
          "polar": {
           "angularaxis": {
            "gridcolor": "white",
            "linecolor": "white",
            "ticks": ""
           },
           "bgcolor": "#E5ECF6",
           "radialaxis": {
            "gridcolor": "white",
            "linecolor": "white",
            "ticks": ""
           }
          },
          "scene": {
           "xaxis": {
            "backgroundcolor": "#E5ECF6",
            "gridcolor": "white",
            "gridwidth": 2,
            "linecolor": "white",
            "showbackground": true,
            "ticks": "",
            "zerolinecolor": "white"
           },
           "yaxis": {
            "backgroundcolor": "#E5ECF6",
            "gridcolor": "white",
            "gridwidth": 2,
            "linecolor": "white",
            "showbackground": true,
            "ticks": "",
            "zerolinecolor": "white"
           },
           "zaxis": {
            "backgroundcolor": "#E5ECF6",
            "gridcolor": "white",
            "gridwidth": 2,
            "linecolor": "white",
            "showbackground": true,
            "ticks": "",
            "zerolinecolor": "white"
           }
          },
          "shapedefaults": {
           "line": {
            "color": "#2a3f5f"
           }
          },
          "ternary": {
           "aaxis": {
            "gridcolor": "white",
            "linecolor": "white",
            "ticks": ""
           },
           "baxis": {
            "gridcolor": "white",
            "linecolor": "white",
            "ticks": ""
           },
           "bgcolor": "#E5ECF6",
           "caxis": {
            "gridcolor": "white",
            "linecolor": "white",
            "ticks": ""
           }
          },
          "title": {
           "x": 0.05
          },
          "xaxis": {
           "automargin": true,
           "gridcolor": "white",
           "linecolor": "white",
           "ticks": "",
           "title": {
            "standoff": 15
           },
           "zerolinecolor": "white",
           "zerolinewidth": 2
          },
          "yaxis": {
           "automargin": true,
           "gridcolor": "white",
           "linecolor": "white",
           "ticks": "",
           "title": {
            "standoff": 15
           },
           "zerolinecolor": "white",
           "zerolinewidth": 2
          }
         }
        },
        "title": {
         "text": "Sentiment Analysis by US state"
        }
       }
      },
      "image/png": "[encoded data removed]"
     },
     "metadata": {},
     "output_type": "display_data"
    },
    {
     "name": "stdout",
     "output_type": "stream",
     "text": [
      "File temp-plot.html uploaded to images/fig35.html.\n",
      "predictions         country  0.0  1.0\n",
      "0                     China  0.0  1.0\n",
      "1                    France  0.0  1.0\n",
      "2                     India  0.0  3.0\n",
      "3                   Ireland  0.0  1.0\n",
      "4                     Kenya  0.0  1.0\n",
      "5               Philippines  1.0  0.0\n",
      "6                     Qatar  1.0  2.0\n",
      "7                     Spain  1.0  0.0\n",
      "8            United Kingdom  1.0  2.0\n",
      "9             United States  1.0  8.0\n",
      "10                   Zambia  0.0  1.0\n"
     ]
    },
    {
     "data": {
      "text/plain": [
       "<Figure size 1008x432 with 0 Axes>"
      ]
     },
     "metadata": {},
     "output_type": "display_data"
    }
   ],
   "source": [
    "#if __name__ == \"__main__\":\n",
    "\n",
    "# Create Spark session\n",
    "spark = SparkSession.builder.appName(\"TwitterSentimentAnalysis\").getOrCreate()\n",
    "\n",
    "# Start batch processing\n",
    "tweets = start_batch_processing(spark)\n",
    "\n",
    "# Visualize results\n",
    "visualize_results_from_batch(tweets)"
   ]
  },
  {
   "cell_type": "code",
   "execution_count": 703,
   "id": "f2cabc4d",
   "metadata": {},
   "outputs": [
    {
     "name": "stderr",
     "output_type": "stream",
     "text": []
    },
    {
     "name": "stderr",
     "output_type": "stream",
     "text": []
    },
    {
     "name": "stdout",
     "output_type": "stream",
     "text": [
      "9000\n"
     ]
    },
    {
     "name": "stderr",
     "output_type": "stream",
     "text": []
    }
   ],
   "source": [
    "print(tweets.count())\n",
    "tweets.createOrReplaceTempView(\"MyTable\")"
   ]
  },
  {
   "cell_type": "code",
   "execution_count": 704,
   "id": "29e42490",
   "metadata": {},
   "outputs": [
    {
     "name": "stderr",
     "output_type": "stream",
     "text": []
    },
    {
     "name": "stderr",
     "output_type": "stream",
     "text": []
    },
    {
     "name": "stdout",
     "output_type": "stream",
     "text": [
      "+---------+\n",
      "|count(id)|\n",
      "+---------+\n",
      "|     3709|\n",
      "+---------+\n",
      "\n"
     ]
    },
    {
     "name": "stderr",
     "output_type": "stream",
     "text": []
    }
   ],
   "source": [
    "df = spark.sql('SELECT count(id) FROM MyTable WHERE analysis = \"Positive\"')\n",
    "df.show(5)"
   ]
  },
  {
   "cell_type": "code",
   "execution_count": 705,
   "id": "625d1ebc",
   "metadata": {},
   "outputs": [
    {
     "name": "stderr",
     "output_type": "stream",
     "text": []
    },
    {
     "name": "stderr",
     "output_type": "stream",
     "text": []
    },
    {
     "name": "stdout",
     "output_type": "stream",
     "text": [
      "+---------+\n",
      "|count(id)|\n",
      "+---------+\n",
      "|     1149|\n",
      "+---------+\n",
      "\n"
     ]
    },
    {
     "name": "stderr",
     "output_type": "stream",
     "text": []
    }
   ],
   "source": [
    "df = spark.sql('SELECT count(id) FROM MyTable WHERE analysis = \"Negative\"')\n",
    "df.show(5)"
   ]
  },
  {
   "cell_type": "code",
   "execution_count": 706,
   "id": "434b48bd",
   "metadata": {},
   "outputs": [
    {
     "name": "stderr",
     "output_type": "stream",
     "text": []
    },
    {
     "name": "stderr",
     "output_type": "stream",
     "text": []
    },
    {
     "name": "stdout",
     "output_type": "stream",
     "text": [
      "+---------+\n",
      "|count(id)|\n",
      "+---------+\n",
      "|     4142|\n",
      "+---------+\n",
      "\n"
     ]
    },
    {
     "name": "stderr",
     "output_type": "stream",
     "text": []
    }
   ],
   "source": [
    "df = spark.sql('SELECT count(id) FROM MyTable WHERE analysis = \"Neutral\"')\n",
    "df.show(5)"
   ]
  },
  {
   "cell_type": "code",
   "execution_count": 707,
   "id": "f1eabfed",
   "metadata": {},
   "outputs": [],
   "source": [
    "spark.stop()"
   ]
  },
  {
   "cell_type": "code",
   "execution_count": null,
   "id": "d80885cc",
   "metadata": {},
   "outputs": [],
   "source": []
  }
 ],
 "metadata": {
  "kernelspec": {
   "display_name": "Python 3",
   "language": "python",
   "name": "python3"
  },
  "language_info": {
   "codemirror_mode": {
    "name": "ipython",
    "version": 3
   },
   "file_extension": ".py",
   "mimetype": "text/x-python",
   "name": "python",
   "nbconvert_exporter": "python",
   "pygments_lexer": "ipython3",
   "version": "3.8.12"
  }
 },
 "nbformat": 4,
 "nbformat_minor": 5
}